{
 "cells": [
  {
   "cell_type": "markdown",
   "id": "990a65e6",
   "metadata": {},
   "source": [
    "These are the 4 steps of the algorithm. See also the figure 4. 1.\n",
    "\n",
    "- Read the documents and collect every pair (wordID, docID) \n",
    "\n",
    "- Sort those pairs by wordID and by docID \n",
    "\n",
    "- For every wordID, group the pairs so you have its list of documents \n",
    "\n",
    "- Merge the intermediate results to get the final inverted index"
   ]
  },
  {
   "cell_type": "code",
   "execution_count": 83,
   "id": "51cf6c59",
   "metadata": {
    "ExecuteTime": {
     "end_time": "2022-06-07T15:35:43.812274Z",
     "start_time": "2022-06-07T15:35:43.805350Z"
    }
   },
   "outputs": [],
   "source": [
    "import os\n",
    "from collections import defaultdict\n",
    "from typing import List, Tuple, Set, Optional\n",
    "\n",
    "from tqdm import tqdm"
   ]
  },
  {
   "cell_type": "code",
   "execution_count": 49,
   "id": "579653e6",
   "metadata": {
    "ExecuteTime": {
     "end_time": "2022-06-07T15:17:51.987718Z",
     "start_time": "2022-06-07T15:17:51.986049Z"
    }
   },
   "outputs": [],
   "source": [
    "DATA_FOLDER = 'data-engineering-coding-challenge/dataset'"
   ]
  },
  {
   "cell_type": "code",
   "execution_count": 85,
   "id": "98ebdf06",
   "metadata": {
    "ExecuteTime": {
     "end_time": "2022-06-07T15:36:49.566240Z",
     "start_time": "2022-06-07T15:36:49.559111Z"
    }
   },
   "outputs": [],
   "source": [
    "def process_doc(filepath: str, words_dictionary: dict, enc: str='cp1250') -> Set[Tuple[int]]:\n",
    "    with open(filepath, 'r', encoding=enc) as f:\n",
    "        text = f.read()\n",
    "    \n",
    "    doc_num = int(filepath.split('/')[-1])\n",
    "    res = set()\n",
    "    \n",
    "    for word in text.split():\n",
    "        word = word.lower()\n",
    "        if word not in words_dictionary:\n",
    "            words_dictionary[word] = len(words_dictionary)\n",
    "            \n",
    "        res.add((words_dictionary[word], doc_num))\n",
    "    \n",
    "    return res\n",
    "\n",
    "def create_inv_index(folderpath: str) -> dict:\n",
    "    words = {}\n",
    "    word_doc_pairs = set()\n",
    "    \n",
    "    for filename in tqdm(os.listdir(folderpath)):\n",
    "        curr_path = os.path.join(folderpath, filename)\n",
    "        word_doc_pairs.update(process_doc(curr_path, words))        \n",
    "    \n",
    "    word_doc_dict = defaultdict(set)\n",
    "    \n",
    "    for word_id, doc_id in tqdm(sorted(word_doc_pairs)):\n",
    "        word_doc_dict[word_id].add(doc_id)\n",
    "    \n",
    "    return word_doc_dict, words\n",
    "\n",
    "def find_docs(word: str, inv_index: dict, words_dictionary: dict) -> Optional[set]:\n",
    "    return inv_index.get(words_dictionary.get(word, None), None)"
   ]
  },
  {
   "cell_type": "code",
   "execution_count": 79,
   "id": "b9ee1f97",
   "metadata": {
    "ExecuteTime": {
     "end_time": "2022-06-07T15:33:25.815020Z",
     "start_time": "2022-06-07T15:33:23.211255Z"
    }
   },
   "outputs": [
    {
     "name": "stderr",
     "output_type": "stream",
     "text": [
      "100%|██████████| 45/45 [00:01<00:00, 29.79it/s]\n",
      "100%|██████████| 720363/720363 [00:00<00:00, 1342278.27it/s]\n"
     ]
    }
   ],
   "source": [
    "inv_index, word_dict = create_inv_index(DATA_FOLDER)"
   ]
  },
  {
   "cell_type": "code",
   "execution_count": 86,
   "id": "d1952b9e",
   "metadata": {
    "ExecuteTime": {
     "end_time": "2022-06-07T15:37:26.815138Z",
     "start_time": "2022-06-07T15:37:26.809171Z"
    }
   },
   "outputs": [
    {
     "data": {
      "text/plain": [
       "{0, 1, 2, 3, 7, 12, 15, 19, 20, 30, 33, 34, 39, 44}"
      ]
     },
     "execution_count": 86,
     "metadata": {},
     "output_type": "execute_result"
    }
   ],
   "source": [
    "test_word = 'shakespeare'\n",
    "find_docs(test_word, inv_index, word_dict)"
   ]
  }
 ],
 "metadata": {
  "kernelspec": {
   "display_name": "Python [conda env:ml-env]",
   "language": "python",
   "name": "conda-env-ml-env-py"
  },
  "language_info": {
   "codemirror_mode": {
    "name": "ipython",
    "version": 3
   },
   "file_extension": ".py",
   "mimetype": "text/x-python",
   "name": "python",
   "nbconvert_exporter": "python",
   "pygments_lexer": "ipython3",
   "version": "3.8.13"
  },
  "toc": {
   "base_numbering": 1,
   "nav_menu": {},
   "number_sections": true,
   "sideBar": true,
   "skip_h1_title": false,
   "title_cell": "Table of Contents",
   "title_sidebar": "Contents",
   "toc_cell": false,
   "toc_position": {},
   "toc_section_display": true,
   "toc_window_display": false
  },
  "varInspector": {
   "cols": {
    "lenName": 16,
    "lenType": 16,
    "lenVar": 40
   },
   "kernels_config": {
    "python": {
     "delete_cmd_postfix": "",
     "delete_cmd_prefix": "del ",
     "library": "var_list.py",
     "varRefreshCmd": "print(var_dic_list())"
    },
    "r": {
     "delete_cmd_postfix": ") ",
     "delete_cmd_prefix": "rm(",
     "library": "var_list.r",
     "varRefreshCmd": "cat(var_dic_list()) "
    }
   },
   "types_to_exclude": [
    "module",
    "function",
    "builtin_function_or_method",
    "instance",
    "_Feature"
   ],
   "window_display": false
  }
 },
 "nbformat": 4,
 "nbformat_minor": 5
}
