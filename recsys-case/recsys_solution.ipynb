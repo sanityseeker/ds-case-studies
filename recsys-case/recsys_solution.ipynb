{
 "cells": [
  {
   "cell_type": "markdown",
   "id": "448b7a96-af28-4449-b5c4-8bf69cadc635",
   "metadata": {},
   "source": [
    "# Recommender Task"
   ]
  },
  {
   "cell_type": "markdown",
   "id": "6bbb1f50-2ec1-4116-aba4-b16069f1923e",
   "metadata": {},
   "source": [
    "Create a recommendation system based on the data in recsys_data.csv file.  \n",
    "\n",
    "The goal is to recommend surveys with the highest completion probability to users (up to 3 surveys to each user). \n",
    "\n",
    "Data:\n",
    "\n",
    "    ● user - the id of the user\n",
    "    ● survey - the id of the survey\n",
    "    ● status - whether the completion of the survey was successful or not (1 - successful, 0 - unsuccessful)\n",
    "    ● date - the date of the survey completion attempt.\n",
    "    \n",
    "    Note: Surveys have a limited lifetime but exact lifetime information is not available\n",
    "    (it can be 20 minutes, a week, a month, etc.). If you can create a recommendation system that pays more attention to newer surveys, it would be better. You can disregard this part if it makes the task harder for you."
   ]
  },
  {
   "cell_type": "markdown",
   "id": "08c6009d-f4c0-45f9-a17b-46c967019c17",
   "metadata": {},
   "source": [
    "---\n"
   ]
  },
  {
   "cell_type": "code",
   "execution_count": null,
   "id": "f93c00ca-c70e-47ec-86d9-5e9a64fb97d1",
   "metadata": {},
   "outputs": [],
   "source": [
    "RANDOM_SEED = 1337"
   ]
  },
  {
   "cell_type": "code",
   "execution_count": null,
   "id": "2f4eedf8-b699-4599-887d-f520c15adb40",
   "metadata": {},
   "outputs": [],
   "source": [
    "from collections import defaultdict\n",
    "from functools import partial\n",
    "from multiprocessing import Pool\n",
    "from typing import Iterable, Optional\n",
    "\n",
    "import lightfm\n",
    "import pandas as pd\n",
    "import numpy as np\n",
    "\n",
    "from lightfm import LightFM\n",
    "from lightfm.evaluation import precision_at_k, recall_at_k, auc_score\n",
    "from lightfm.data import Dataset\n",
    "from lightfm import cross_validation\n",
    "\n",
    "from scipy.sparse import coo_matrix, csr_matrix\n",
    "from tqdm.notebook import tqdm"
   ]
  },
  {
   "cell_type": "markdown",
   "id": "b52604f5-76ea-46ee-a345-325220d57dba",
   "metadata": {},
   "source": [
    "## Read and preprocess data"
   ]
  },
  {
   "cell_type": "code",
   "execution_count": null,
   "id": "f027aef2-9a98-4e6b-9bb4-972b65097b2a",
   "metadata": {},
   "outputs": [],
   "source": [
    "data = pd.read_csv('recsys_data.csv', parse_dates=['date'])"
   ]
  },
  {
   "cell_type": "code",
   "execution_count": null,
   "id": "d1b9ab30-343d-4030-ac87-416e02956c6a",
   "metadata": {},
   "outputs": [
    {
     "data": {
      "text/html": [
       "<div>\n",
       "<style scoped>\n",
       "    .dataframe tbody tr th:only-of-type {\n",
       "        vertical-align: middle;\n",
       "    }\n",
       "\n",
       "    .dataframe tbody tr th {\n",
       "        vertical-align: top;\n",
       "    }\n",
       "\n",
       "    .dataframe thead th {\n",
       "        text-align: right;\n",
       "    }\n",
       "</style>\n",
       "<table border=\"1\" class=\"dataframe\">\n",
       "  <thead>\n",
       "    <tr style=\"text-align: right;\">\n",
       "      <th></th>\n",
       "      <th>user</th>\n",
       "      <th>survey</th>\n",
       "      <th>status</th>\n",
       "      <th>date</th>\n",
       "    </tr>\n",
       "  </thead>\n",
       "  <tbody>\n",
       "    <tr>\n",
       "      <th>0</th>\n",
       "      <td>46120029</td>\n",
       "      <td>100000000</td>\n",
       "      <td>0</td>\n",
       "      <td>2020-06-25 16:08:06</td>\n",
       "    </tr>\n",
       "    <tr>\n",
       "      <th>1</th>\n",
       "      <td>61685181</td>\n",
       "      <td>100000001</td>\n",
       "      <td>0</td>\n",
       "      <td>2020-06-24 12:29:43</td>\n",
       "    </tr>\n",
       "    <tr>\n",
       "      <th>2</th>\n",
       "      <td>61900560</td>\n",
       "      <td>100000002</td>\n",
       "      <td>0</td>\n",
       "      <td>2020-06-24 20:35:37</td>\n",
       "    </tr>\n",
       "    <tr>\n",
       "      <th>3</th>\n",
       "      <td>26620554</td>\n",
       "      <td>100000003</td>\n",
       "      <td>0</td>\n",
       "      <td>2020-06-24 22:04:23</td>\n",
       "    </tr>\n",
       "    <tr>\n",
       "      <th>4</th>\n",
       "      <td>61973223</td>\n",
       "      <td>100000004</td>\n",
       "      <td>1</td>\n",
       "      <td>2020-06-25 15:15:02</td>\n",
       "    </tr>\n",
       "    <tr>\n",
       "      <th>5</th>\n",
       "      <td>61983168</td>\n",
       "      <td>100000005</td>\n",
       "      <td>1</td>\n",
       "      <td>2020-06-25 20:55:54</td>\n",
       "    </tr>\n",
       "    <tr>\n",
       "      <th>6</th>\n",
       "      <td>61985766</td>\n",
       "      <td>100000006</td>\n",
       "      <td>0</td>\n",
       "      <td>2020-06-25 20:30:24</td>\n",
       "    </tr>\n",
       "    <tr>\n",
       "      <th>7</th>\n",
       "      <td>61989825</td>\n",
       "      <td>100000007</td>\n",
       "      <td>0</td>\n",
       "      <td>2020-06-25 23:04:40</td>\n",
       "    </tr>\n",
       "    <tr>\n",
       "      <th>8</th>\n",
       "      <td>57974526</td>\n",
       "      <td>100000008</td>\n",
       "      <td>0</td>\n",
       "      <td>2020-06-24 17:02:11</td>\n",
       "    </tr>\n",
       "    <tr>\n",
       "      <th>9</th>\n",
       "      <td>61951965</td>\n",
       "      <td>100000009</td>\n",
       "      <td>1</td>\n",
       "      <td>2020-06-24 17:02:06</td>\n",
       "    </tr>\n",
       "    <tr>\n",
       "      <th>10</th>\n",
       "      <td>53060151</td>\n",
       "      <td>100000010</td>\n",
       "      <td>0</td>\n",
       "      <td>2020-06-24 23:01:27</td>\n",
       "    </tr>\n",
       "    <tr>\n",
       "      <th>11</th>\n",
       "      <td>61740366</td>\n",
       "      <td>100000011</td>\n",
       "      <td>0</td>\n",
       "      <td>2020-06-25 13:02:44</td>\n",
       "    </tr>\n",
       "    <tr>\n",
       "      <th>12</th>\n",
       "      <td>61768248</td>\n",
       "      <td>100000012</td>\n",
       "      <td>0</td>\n",
       "      <td>2020-06-24 17:04:09</td>\n",
       "    </tr>\n",
       "    <tr>\n",
       "      <th>13</th>\n",
       "      <td>61872921</td>\n",
       "      <td>100000013</td>\n",
       "      <td>0</td>\n",
       "      <td>2020-06-24 17:45:43</td>\n",
       "    </tr>\n",
       "    <tr>\n",
       "      <th>14</th>\n",
       "      <td>32040609</td>\n",
       "      <td>100000014</td>\n",
       "      <td>0</td>\n",
       "      <td>2020-06-24 17:55:31</td>\n",
       "    </tr>\n",
       "  </tbody>\n",
       "</table>\n",
       "</div>"
      ],
      "text/plain": [
       "        user     survey  status                date\n",
       "0   46120029  100000000       0 2020-06-25 16:08:06\n",
       "1   61685181  100000001       0 2020-06-24 12:29:43\n",
       "2   61900560  100000002       0 2020-06-24 20:35:37\n",
       "3   26620554  100000003       0 2020-06-24 22:04:23\n",
       "4   61973223  100000004       1 2020-06-25 15:15:02\n",
       "5   61983168  100000005       1 2020-06-25 20:55:54\n",
       "6   61985766  100000006       0 2020-06-25 20:30:24\n",
       "7   61989825  100000007       0 2020-06-25 23:04:40\n",
       "8   57974526  100000008       0 2020-06-24 17:02:11\n",
       "9   61951965  100000009       1 2020-06-24 17:02:06\n",
       "10  53060151  100000010       0 2020-06-24 23:01:27\n",
       "11  61740366  100000011       0 2020-06-25 13:02:44\n",
       "12  61768248  100000012       0 2020-06-24 17:04:09\n",
       "13  61872921  100000013       0 2020-06-24 17:45:43\n",
       "14  32040609  100000014       0 2020-06-24 17:55:31"
      ]
     },
     "execution_count": 4,
     "metadata": {},
     "output_type": "execute_result"
    }
   ],
   "source": [
    "data.head(15)"
   ]
  },
  {
   "cell_type": "code",
   "execution_count": null,
   "id": "f5099eeb-1295-43a6-8732-734adad1c209",
   "metadata": {},
   "outputs": [
    {
     "data": {
      "text/plain": [
       "0    1101197\n",
       "1     212127\n",
       "Name: status, dtype: int64"
      ]
     },
     "execution_count": 5,
     "metadata": {},
     "output_type": "execute_result"
    }
   ],
   "source": [
    "data.status.value_counts()"
   ]
  },
  {
   "cell_type": "code",
   "execution_count": null,
   "id": "897a6089-0d08-4b88-9231-a1045377da09",
   "metadata": {},
   "outputs": [
    {
     "data": {
      "text/plain": [
       "(Timestamp('2020-06-24 08:16:25'), Timestamp('2020-06-28 04:16:08'))"
      ]
     },
     "execution_count": 6,
     "metadata": {},
     "output_type": "execute_result"
    }
   ],
   "source": [
    "min_date = min(data.date)\n",
    "max_date = max(data.date)\n",
    "\n",
    "min_date, max_date"
   ]
  },
  {
   "cell_type": "markdown",
   "id": "219b7fc9-e4f8-475e-82ff-19d291050743",
   "metadata": {},
   "source": [
    "How many users and items do we have here"
   ]
  },
  {
   "cell_type": "code",
   "execution_count": null,
   "id": "1cf13ada-df51-4739-bb17-c26ad0e91cac",
   "metadata": {},
   "outputs": [
    {
     "data": {
      "text/plain": [
       "(83126, 42445)"
      ]
     },
     "execution_count": 7,
     "metadata": {},
     "output_type": "execute_result"
    }
   ],
   "source": [
    "NUM_USERS = len(data.user.unique())\n",
    "NUM_ITEMS = len(data.survey.unique())\n",
    "\n",
    "NUM_USERS, NUM_ITEMS"
   ]
  },
  {
   "cell_type": "code",
   "execution_count": null,
   "id": "b3f9d95d-7091-4c50-8e6b-76ace61ce821",
   "metadata": {},
   "outputs": [],
   "source": [
    "user_survey_counts = data.groupby(by=['user', 'status'], as_index=False)['survey'].count()"
   ]
  },
  {
   "cell_type": "code",
   "execution_count": null,
   "id": "0971e551-fc1a-47b1-bb0d-997b6ad4f5b7",
   "metadata": {},
   "outputs": [
    {
     "data": {
      "text/html": [
       "<div>\n",
       "<style scoped>\n",
       "    .dataframe tbody tr th:only-of-type {\n",
       "        vertical-align: middle;\n",
       "    }\n",
       "\n",
       "    .dataframe tbody tr th {\n",
       "        vertical-align: top;\n",
       "    }\n",
       "\n",
       "    .dataframe thead th {\n",
       "        text-align: right;\n",
       "    }\n",
       "</style>\n",
       "<table border=\"1\" class=\"dataframe\">\n",
       "  <thead>\n",
       "    <tr style=\"text-align: right;\">\n",
       "      <th></th>\n",
       "      <th>user</th>\n",
       "      <th>status</th>\n",
       "      <th>survey</th>\n",
       "    </tr>\n",
       "  </thead>\n",
       "  <tbody>\n",
       "    <tr>\n",
       "      <th>0</th>\n",
       "      <td>40881</td>\n",
       "      <td>0</td>\n",
       "      <td>5</td>\n",
       "    </tr>\n",
       "    <tr>\n",
       "      <th>1</th>\n",
       "      <td>43281</td>\n",
       "      <td>0</td>\n",
       "      <td>9</td>\n",
       "    </tr>\n",
       "    <tr>\n",
       "      <th>2</th>\n",
       "      <td>46035</td>\n",
       "      <td>0</td>\n",
       "      <td>1</td>\n",
       "    </tr>\n",
       "    <tr>\n",
       "      <th>3</th>\n",
       "      <td>47667</td>\n",
       "      <td>0</td>\n",
       "      <td>7</td>\n",
       "    </tr>\n",
       "    <tr>\n",
       "      <th>4</th>\n",
       "      <td>48396</td>\n",
       "      <td>0</td>\n",
       "      <td>7</td>\n",
       "    </tr>\n",
       "    <tr>\n",
       "      <th>...</th>\n",
       "      <td>...</td>\n",
       "      <td>...</td>\n",
       "      <td>...</td>\n",
       "    </tr>\n",
       "    <tr>\n",
       "      <th>127785</th>\n",
       "      <td>62078010</td>\n",
       "      <td>0</td>\n",
       "      <td>1</td>\n",
       "    </tr>\n",
       "    <tr>\n",
       "      <th>127786</th>\n",
       "      <td>62078025</td>\n",
       "      <td>0</td>\n",
       "      <td>1</td>\n",
       "    </tr>\n",
       "    <tr>\n",
       "      <th>127787</th>\n",
       "      <td>62078061</td>\n",
       "      <td>0</td>\n",
       "      <td>3</td>\n",
       "    </tr>\n",
       "    <tr>\n",
       "      <th>127788</th>\n",
       "      <td>62078103</td>\n",
       "      <td>0</td>\n",
       "      <td>1</td>\n",
       "    </tr>\n",
       "    <tr>\n",
       "      <th>127789</th>\n",
       "      <td>62078124</td>\n",
       "      <td>0</td>\n",
       "      <td>1</td>\n",
       "    </tr>\n",
       "  </tbody>\n",
       "</table>\n",
       "<p>127790 rows × 3 columns</p>\n",
       "</div>"
      ],
      "text/plain": [
       "            user  status  survey\n",
       "0          40881       0       5\n",
       "1          43281       0       9\n",
       "2          46035       0       1\n",
       "3          47667       0       7\n",
       "4          48396       0       7\n",
       "...          ...     ...     ...\n",
       "127785  62078010       0       1\n",
       "127786  62078025       0       1\n",
       "127787  62078061       0       3\n",
       "127788  62078103       0       1\n",
       "127789  62078124       0       1\n",
       "\n",
       "[127790 rows x 3 columns]"
      ]
     },
     "execution_count": 9,
     "metadata": {},
     "output_type": "execute_result"
    }
   ],
   "source": [
    "user_survey_counts"
   ]
  },
  {
   "cell_type": "code",
   "execution_count": null,
   "id": "106318b8-b952-480d-b7e3-4575d7135911",
   "metadata": {},
   "outputs": [
    {
     "data": {
      "text/plain": [
       "<AxesSubplot:>"
      ]
     },
     "execution_count": 10,
     "metadata": {},
     "output_type": "execute_result"
    },
    {
     "data": {
      "image/png": "[encoded data removed]",
      "text/plain": [
       "<Figure size 432x288 with 1 Axes>"
      ]
     },
     "metadata": {
      "needs_background": "light"
     },
     "output_type": "display_data"
    }
   ],
   "source": [
    "user_survey_counts[user_survey_counts['status'] == 0]['survey'].hist(bins=50)"
   ]
  },
  {
   "cell_type": "markdown",
   "id": "184fbc05-eba8-4f54-8f82-e61d7608eb1f",
   "metadata": {},
   "source": [
    "Who are these users with hundreds of incompleted surveys in less than 4 days? 0_o"
   ]
  },
  {
   "cell_type": "code",
   "execution_count": null,
   "id": "82034e60-2e97-4a22-9800-ed39c8f004f4",
   "metadata": {},
   "outputs": [
    {
     "data": {
      "text/plain": [
       "<AxesSubplot:>"
      ]
     },
     "execution_count": 11,
     "metadata": {},
     "output_type": "execute_result"
    },
    {
     "data": {
      "image/png": "[encoded data removed]",
      "text/plain": [
       "<Figure size 432x288 with 1 Axes>"
      ]
     },
     "metadata": {
      "needs_background": "light"
     },
     "output_type": "display_data"
    }
   ],
   "source": [
    "user_survey_counts[user_survey_counts['status'] == 1]['survey'].hist(bins=50)"
   ]
  },
  {
   "cell_type": "markdown",
   "id": "43ea31b4-49f1-4b97-ba11-d18762f1542e",
   "metadata": {},
   "source": [
    "Check if there are any multiple entries of a same survey for any user"
   ]
  },
  {
   "cell_type": "code",
   "execution_count": null,
   "id": "42be5433-3ec4-4b92-8fd3-430dd73b48e9",
   "metadata": {},
   "outputs": [],
   "source": [
    "assert data.shape == data.drop_duplicates().shape"
   ]
  },
  {
   "cell_type": "markdown",
   "id": "f6d373f8-f8db-464b-a67e-b5d6c65a1db1",
   "metadata": {},
   "source": [
    "Even though users haven't complete some of their surveys, we can still treat them as an implicit signal of interest. After all, they interacted with these items. It is also logical to have a higher weight for completed surveys"
   ]
  },
  {
   "cell_type": "code",
   "execution_count": null,
   "id": "03c0251d-0569-4134-a219-61bb71d913c5",
   "metadata": {},
   "outputs": [],
   "source": [
    "SEEN_SURVEYS_WEIGHT = 1\n",
    "COMPLETED_SURVEYS_WEIGHT = 3\n",
    "\n",
    "data['rating'] = data['status'].apply(lambda r: COMPLETED_SURVEYS_WEIGHT if r > 0 else SEEN_SURVEYS_WEIGHT)"
   ]
  },
  {
   "cell_type": "markdown",
   "id": "892188e3-fcd7-45de-9d9a-facaf147d6bc",
   "metadata": {},
   "source": [
    "As we don't know the actual information of surveys' lifespan, we could approximate with their last completion attempts' dates"
   ]
  },
  {
   "cell_type": "code",
   "execution_count": null,
   "id": "9c936088-03f1-4a5f-8abd-10bde8304ed4",
   "metadata": {},
   "outputs": [],
   "source": [
    "data['date_doy'] = data['date'].apply(lambda pds: pds.day_of_year)\n",
    "surveys_last_day = data.groupby(by=['survey'])['date_doy'].max()"
   ]
  },
  {
   "cell_type": "markdown",
   "id": "a7d17a39-2bd5-4834-b521-e1f855d8fad1",
   "metadata": {},
   "source": [
    "We can also add some time decay term to weight user surveys interactions"
   ]
  },
  {
   "cell_type": "code",
   "execution_count": null,
   "id": "48ee0691-9636-4c69-8d99-745a0e08d515",
   "metadata": {},
   "outputs": [],
   "source": [
    "decay_speed = (max_date - min_date).days / 2\n",
    "\n",
    "data['rating_decayed'] = data.apply(lambda row: row['rating'] * 0.5 ** ((max_date - row['date']).days / decay_speed), axis=1)"
   ]
  },
  {
   "cell_type": "markdown",
   "id": "1dca65fc-5744-4e5d-9d4a-af944496cee5",
   "metadata": {},
   "source": [
    "## Baseline"
   ]
  },
  {
   "cell_type": "markdown",
   "id": "3559e6a1-c1b4-4307-8358-adf5bb376009",
   "metadata": {},
   "source": [
    "At the beginning, let's create a simple solution. It will also help us interpret performance of more complex approaches.\n",
    "\n",
    "For example, for baseline we can recommend most frequently completed (previously unseen) surveys or the surveys with highest cumulative rating."
   ]
  },
  {
   "cell_type": "markdown",
   "id": "4c5ce2ab-6509-451f-9cf8-419ca56d25ca",
   "metadata": {},
   "source": [
    "### Most completed surveys"
   ]
  },
  {
   "cell_type": "code",
   "execution_count": null,
   "id": "ab8608f3-3b6f-4fa7-a63f-ecae00ed9ad8",
   "metadata": {},
   "outputs": [],
   "source": [
    "surveys_completeness = data.groupby(by=['survey'], as_index=False)['status'].agg(['count', 'sum'])"
   ]
  },
  {
   "cell_type": "code",
   "execution_count": null,
   "id": "c9c93438-a41c-4292-8378-297554d920b7",
   "metadata": {},
   "outputs": [],
   "source": [
    "surveys_completeness.reset_index(inplace=True)\n",
    "surveys_completeness.columns = ['survey', 'taken', 'completed']"
   ]
  },
  {
   "cell_type": "code",
   "execution_count": null,
   "id": "577e40f8-8759-4f1e-ada2-3c92e2c251d9",
   "metadata": {},
   "outputs": [],
   "source": [
    "completed_perc = np.percentile(surveys_completeness['completed'], 99)\n",
    "taken_perc = np.percentile(surveys_completeness['taken'], 99)"
   ]
  },
  {
   "cell_type": "code",
   "execution_count": null,
   "id": "384b616a-45be-4711-9871-0084fd46125a",
   "metadata": {},
   "outputs": [
    {
     "data": {
      "text/html": [
       "<div>\n",
       "<style scoped>\n",
       "    .dataframe tbody tr th:only-of-type {\n",
       "        vertical-align: middle;\n",
       "    }\n",
       "\n",
       "    .dataframe tbody tr th {\n",
       "        vertical-align: top;\n",
       "    }\n",
       "\n",
       "    .dataframe thead th {\n",
       "        text-align: right;\n",
       "    }\n",
       "</style>\n",
       "<table border=\"1\" class=\"dataframe\">\n",
       "  <thead>\n",
       "    <tr style=\"text-align: right;\">\n",
       "      <th></th>\n",
       "      <th>survey</th>\n",
       "      <th>taken</th>\n",
       "      <th>completed</th>\n",
       "    </tr>\n",
       "  </thead>\n",
       "  <tbody>\n",
       "    <tr>\n",
       "      <th>513</th>\n",
       "      <td>100000513</td>\n",
       "      <td>1573</td>\n",
       "      <td>1125</td>\n",
       "    </tr>\n",
       "    <tr>\n",
       "      <th>17</th>\n",
       "      <td>100000017</td>\n",
       "      <td>1845</td>\n",
       "      <td>1078</td>\n",
       "    </tr>\n",
       "    <tr>\n",
       "      <th>368</th>\n",
       "      <td>100000368</td>\n",
       "      <td>1427</td>\n",
       "      <td>990</td>\n",
       "    </tr>\n",
       "    <tr>\n",
       "      <th>136</th>\n",
       "      <td>100000136</td>\n",
       "      <td>5454</td>\n",
       "      <td>921</td>\n",
       "    </tr>\n",
       "    <tr>\n",
       "      <th>40</th>\n",
       "      <td>100000040</td>\n",
       "      <td>5806</td>\n",
       "      <td>894</td>\n",
       "    </tr>\n",
       "    <tr>\n",
       "      <th>...</th>\n",
       "      <td>...</td>\n",
       "      <td>...</td>\n",
       "      <td>...</td>\n",
       "    </tr>\n",
       "    <tr>\n",
       "      <th>2149</th>\n",
       "      <td>100002149</td>\n",
       "      <td>560</td>\n",
       "      <td>101</td>\n",
       "    </tr>\n",
       "    <tr>\n",
       "      <th>3121</th>\n",
       "      <td>100003121</td>\n",
       "      <td>123</td>\n",
       "      <td>101</td>\n",
       "    </tr>\n",
       "    <tr>\n",
       "      <th>1275</th>\n",
       "      <td>100001275</td>\n",
       "      <td>307</td>\n",
       "      <td>101</td>\n",
       "    </tr>\n",
       "    <tr>\n",
       "      <th>1089</th>\n",
       "      <td>100001089</td>\n",
       "      <td>416</td>\n",
       "      <td>101</td>\n",
       "    </tr>\n",
       "    <tr>\n",
       "      <th>1492</th>\n",
       "      <td>100001492</td>\n",
       "      <td>189</td>\n",
       "      <td>101</td>\n",
       "    </tr>\n",
       "  </tbody>\n",
       "</table>\n",
       "<p>425 rows × 3 columns</p>\n",
       "</div>"
      ],
      "text/plain": [
       "         survey  taken  completed\n",
       "513   100000513   1573       1125\n",
       "17    100000017   1845       1078\n",
       "368   100000368   1427        990\n",
       "136   100000136   5454        921\n",
       "40    100000040   5806        894\n",
       "...         ...    ...        ...\n",
       "2149  100002149    560        101\n",
       "3121  100003121    123        101\n",
       "1275  100001275    307        101\n",
       "1089  100001089    416        101\n",
       "1492  100001492    189        101\n",
       "\n",
       "[425 rows x 3 columns]"
      ]
     },
     "execution_count": 19,
     "metadata": {},
     "output_type": "execute_result"
    }
   ],
   "source": [
    "top_surveys_by_completion = surveys_completeness.sort_values(['completed'], ascending=False)\n",
    "top_surveys_by_completion = top_surveys_by_completion[top_surveys_by_completion['completed'] > completed_perc]\n",
    "top_surveys_by_completion"
   ]
  },
  {
   "cell_type": "markdown",
   "id": "4bf9b63e-bcb0-4c61-a34a-e194db6a965a",
   "metadata": {},
   "source": [
    "### Top surveys with highest completion ratio"
   ]
  },
  {
   "cell_type": "code",
   "execution_count": null,
   "id": "67103e6f-ea7e-4550-96f2-ef51730f219d",
   "metadata": {},
   "outputs": [],
   "source": [
    "surveys_completeness['comp_ratio'] = surveys_completeness['completed'] / surveys_completeness['taken']"
   ]
  },
  {
   "cell_type": "markdown",
   "id": "a5ccec98-f543-47ae-9f90-e8f8cb27aee8",
   "metadata": {},
   "source": [
    "Get top surveys by completion ratio with some lower bound on popularity"
   ]
  },
  {
   "cell_type": "code",
   "execution_count": null,
   "id": "6f1be069-a07e-45b2-b771-3095fb1238a0",
   "metadata": {},
   "outputs": [
    {
     "data": {
      "text/html": [
       "<div>\n",
       "<style scoped>\n",
       "    .dataframe tbody tr th:only-of-type {\n",
       "        vertical-align: middle;\n",
       "    }\n",
       "\n",
       "    .dataframe tbody tr th {\n",
       "        vertical-align: top;\n",
       "    }\n",
       "\n",
       "    .dataframe thead th {\n",
       "        text-align: right;\n",
       "    }\n",
       "</style>\n",
       "<table border=\"1\" class=\"dataframe\">\n",
       "  <thead>\n",
       "    <tr style=\"text-align: right;\">\n",
       "      <th></th>\n",
       "      <th>survey</th>\n",
       "      <th>taken</th>\n",
       "      <th>completed</th>\n",
       "      <th>comp_ratio</th>\n",
       "    </tr>\n",
       "  </thead>\n",
       "  <tbody>\n",
       "    <tr>\n",
       "      <th>1727</th>\n",
       "      <td>100001727</td>\n",
       "      <td>531</td>\n",
       "      <td>515</td>\n",
       "      <td>0.969868</td>\n",
       "    </tr>\n",
       "    <tr>\n",
       "      <th>382</th>\n",
       "      <td>100000382</td>\n",
       "      <td>638</td>\n",
       "      <td>570</td>\n",
       "      <td>0.893417</td>\n",
       "    </tr>\n",
       "    <tr>\n",
       "      <th>1892</th>\n",
       "      <td>100001892</td>\n",
       "      <td>787</td>\n",
       "      <td>702</td>\n",
       "      <td>0.891995</td>\n",
       "    </tr>\n",
       "    <tr>\n",
       "      <th>1142</th>\n",
       "      <td>100001142</td>\n",
       "      <td>532</td>\n",
       "      <td>474</td>\n",
       "      <td>0.890977</td>\n",
       "    </tr>\n",
       "    <tr>\n",
       "      <th>408</th>\n",
       "      <td>100000408</td>\n",
       "      <td>681</td>\n",
       "      <td>574</td>\n",
       "      <td>0.842878</td>\n",
       "    </tr>\n",
       "  </tbody>\n",
       "</table>\n",
       "</div>"
      ],
      "text/plain": [
       "         survey  taken  completed  comp_ratio\n",
       "1727  100001727    531        515    0.969868\n",
       "382   100000382    638        570    0.893417\n",
       "1892  100001892    787        702    0.891995\n",
       "1142  100001142    532        474    0.890977\n",
       "408   100000408    681        574    0.842878"
      ]
     },
     "execution_count": 22,
     "metadata": {},
     "output_type": "execute_result"
    }
   ],
   "source": [
    "top_surveys_by_prob = surveys_completeness[surveys_completeness['taken'] > taken_perc].sort_values('comp_ratio', ascending=False)\n",
    "top_surveys_by_prob.head()"
   ]
  },
  {
   "cell_type": "markdown",
   "id": "436cb494-57b0-4a68-a357-bb59b58e7735",
   "metadata": {},
   "source": [
    "###  Surveys with highest rating"
   ]
  },
  {
   "cell_type": "code",
   "execution_count": null,
   "id": "5b959173-9e3a-451f-8858-611602166650",
   "metadata": {},
   "outputs": [
    {
     "data": {
      "text/plain": [
       "0.3380035026269702"
      ]
     },
     "execution_count": 23,
     "metadata": {},
     "output_type": "execute_result"
    }
   ],
   "source": [
    "completion_ratio_perc = np.percentile(surveys_completeness[surveys_completeness['taken'] > taken_perc]['comp_ratio'], 75)\n",
    "completion_ratio_perc"
   ]
  },
  {
   "cell_type": "code",
   "execution_count": null,
   "id": "e7c7469f-5905-4196-9b16-05f02a29d754",
   "metadata": {},
   "outputs": [],
   "source": [
    "surveys_rating = data.groupby(by=['survey'], as_index=False)[['rating', 'rating_decayed']].sum()\n",
    "surveys_rating.sort_values('rating_decayed', ascending=False, inplace=True)"
   ]
  },
  {
   "cell_type": "code",
   "execution_count": null,
   "id": "70119e0e-a39e-4659-8477-c8aa60121ba5",
   "metadata": {},
   "outputs": [],
   "source": [
    "top_surveys_by_rating = pd.merge(surveys_rating, top_surveys_by_prob, how='left', on=['survey'])\n",
    "top_surveys_by_rating = top_surveys_by_rating[top_surveys_by_rating['comp_ratio'] > completion_ratio_perc].sort_values('rating_decayed', ascending=False)"
   ]
  },
  {
   "cell_type": "code",
   "execution_count": null,
   "id": "4ffe105d-3ce9-44ee-b250-1f1a6975ae3e",
   "metadata": {},
   "outputs": [
    {
     "data": {
      "text/html": [
       "<div>\n",
       "<style scoped>\n",
       "    .dataframe tbody tr th:only-of-type {\n",
       "        vertical-align: middle;\n",
       "    }\n",
       "\n",
       "    .dataframe tbody tr th {\n",
       "        vertical-align: top;\n",
       "    }\n",
       "\n",
       "    .dataframe thead th {\n",
       "        text-align: right;\n",
       "    }\n",
       "</style>\n",
       "<table border=\"1\" class=\"dataframe\">\n",
       "  <thead>\n",
       "    <tr style=\"text-align: right;\">\n",
       "      <th></th>\n",
       "      <th>survey</th>\n",
       "      <th>rating</th>\n",
       "      <th>rating_decayed</th>\n",
       "      <th>taken</th>\n",
       "      <th>completed</th>\n",
       "      <th>comp_ratio</th>\n",
       "    </tr>\n",
       "  </thead>\n",
       "  <tbody>\n",
       "    <tr>\n",
       "      <th>14</th>\n",
       "      <td>100000368</td>\n",
       "      <td>3407</td>\n",
       "      <td>2874.143156</td>\n",
       "      <td>1427.0</td>\n",
       "      <td>990.0</td>\n",
       "      <td>0.693763</td>\n",
       "    </tr>\n",
       "    <tr>\n",
       "      <th>15</th>\n",
       "      <td>100001069</td>\n",
       "      <td>2842</td>\n",
       "      <td>2842.000000</td>\n",
       "      <td>1458.0</td>\n",
       "      <td>692.0</td>\n",
       "      <td>0.474623</td>\n",
       "    </tr>\n",
       "    <tr>\n",
       "      <th>21</th>\n",
       "      <td>100002169</td>\n",
       "      <td>2483</td>\n",
       "      <td>2481.889882</td>\n",
       "      <td>1283.0</td>\n",
       "      <td>600.0</td>\n",
       "      <td>0.467654</td>\n",
       "    </tr>\n",
       "    <tr>\n",
       "      <th>22</th>\n",
       "      <td>100003075</td>\n",
       "      <td>2474</td>\n",
       "      <td>2474.000000</td>\n",
       "      <td>1354.0</td>\n",
       "      <td>560.0</td>\n",
       "      <td>0.413589</td>\n",
       "    </tr>\n",
       "    <tr>\n",
       "      <th>23</th>\n",
       "      <td>100002577</td>\n",
       "      <td>2449</td>\n",
       "      <td>2419.766881</td>\n",
       "      <td>1287.0</td>\n",
       "      <td>581.0</td>\n",
       "      <td>0.451437</td>\n",
       "    </tr>\n",
       "    <tr>\n",
       "      <th>...</th>\n",
       "      <td>...</td>\n",
       "      <td>...</td>\n",
       "      <td>...</td>\n",
       "      <td>...</td>\n",
       "      <td>...</td>\n",
       "      <td>...</td>\n",
       "    </tr>\n",
       "    <tr>\n",
       "      <th>564</th>\n",
       "      <td>100001248</td>\n",
       "      <td>828</td>\n",
       "      <td>328.592018</td>\n",
       "      <td>492.0</td>\n",
       "      <td>168.0</td>\n",
       "      <td>0.341463</td>\n",
       "    </tr>\n",
       "    <tr>\n",
       "      <th>599</th>\n",
       "      <td>100001507</td>\n",
       "      <td>1223</td>\n",
       "      <td>312.505112</td>\n",
       "      <td>701.0</td>\n",
       "      <td>261.0</td>\n",
       "      <td>0.372325</td>\n",
       "    </tr>\n",
       "    <tr>\n",
       "      <th>732</th>\n",
       "      <td>100000117</td>\n",
       "      <td>955</td>\n",
       "      <td>260.924390</td>\n",
       "      <td>561.0</td>\n",
       "      <td>197.0</td>\n",
       "      <td>0.351159</td>\n",
       "    </tr>\n",
       "    <tr>\n",
       "      <th>809</th>\n",
       "      <td>100001224</td>\n",
       "      <td>976</td>\n",
       "      <td>244.000000</td>\n",
       "      <td>542.0</td>\n",
       "      <td>217.0</td>\n",
       "      <td>0.400369</td>\n",
       "    </tr>\n",
       "    <tr>\n",
       "      <th>825</th>\n",
       "      <td>100001634</td>\n",
       "      <td>959</td>\n",
       "      <td>240.043701</td>\n",
       "      <td>453.0</td>\n",
       "      <td>253.0</td>\n",
       "      <td>0.558499</td>\n",
       "    </tr>\n",
       "  </tbody>\n",
       "</table>\n",
       "<p>106 rows × 6 columns</p>\n",
       "</div>"
      ],
      "text/plain": [
       "        survey  rating  rating_decayed   taken  completed  comp_ratio\n",
       "14   100000368    3407     2874.143156  1427.0      990.0    0.693763\n",
       "15   100001069    2842     2842.000000  1458.0      692.0    0.474623\n",
       "21   100002169    2483     2481.889882  1283.0      600.0    0.467654\n",
       "22   100003075    2474     2474.000000  1354.0      560.0    0.413589\n",
       "23   100002577    2449     2419.766881  1287.0      581.0    0.451437\n",
       "..         ...     ...             ...     ...        ...         ...\n",
       "564  100001248     828      328.592018   492.0      168.0    0.341463\n",
       "599  100001507    1223      312.505112   701.0      261.0    0.372325\n",
       "732  100000117     955      260.924390   561.0      197.0    0.351159\n",
       "809  100001224     976      244.000000   542.0      217.0    0.400369\n",
       "825  100001634     959      240.043701   453.0      253.0    0.558499\n",
       "\n",
       "[106 rows x 6 columns]"
      ]
     },
     "execution_count": 26,
     "metadata": {},
     "output_type": "execute_result"
    }
   ],
   "source": [
    "top_surveys_by_rating"
   ]
  },
  {
   "cell_type": "markdown",
   "id": "e8143b8f-d59f-47c7-8db5-1499d60a5efd",
   "metadata": {},
   "source": [
    "### Create BaselineModel class"
   ]
  },
  {
   "cell_type": "code",
   "execution_count": null,
   "id": "b8d47d0d-213d-4cf5-b4d7-0cbec3f21d81",
   "metadata": {},
   "outputs": [],
   "source": [
    "from typing import Iterable, Optional\n",
    "from scipy.sparse import coo_matrix\n",
    "\n",
    "\n",
    "def reverse_map(mapping: dict) -> dict:\n",
    "    return {value: key for key, value in mapping.items()}\n",
    "\n",
    "class BaselineModel:\n",
    "    def __init__(self, items_list: Iterable[int],\n",
    "                 seen_items: Optional[coo_matrix] = None,\n",
    "                 user_index_map: Optional[dict] = None,\n",
    "                 item_index_map: Optional[dict] = None,\n",
    "                 user_col: str = 'user',\n",
    "                 item_col: str = 'survey'):\n",
    "        \n",
    "        self.predictions = items_list\n",
    "        \n",
    "        self.user_col = user_col\n",
    "        self.item_col = item_col\n",
    "        \n",
    "        self.seen_items = seen_items\n",
    "        self.user_index_map = user_index_map\n",
    "        self.item_index_map = item_index_map\n",
    "\n",
    "        self._item_inv_map = None\n",
    "        \n",
    "        if self.seen_items is not None and (self.user_index_map is None or self.item_index_map is None):\n",
    "            raise ValueError('You need to provide user and item index mappings for interactions data!')\n",
    "                \n",
    "        if self.item_index_map is not None:\n",
    "            self._item_inv_map = reverse_map(item_index_map)\n",
    "        \n",
    "    def _predict(self, user_ids: Iterable[int], n_rec: int) -> pd.DataFrame:\n",
    "        \n",
    "        res = []\n",
    "        \n",
    "        for user_id in user_ids:\n",
    "            \n",
    "            predictions = self.predictions\n",
    "            \n",
    "            if self.seen_items is not None:\n",
    "                uid = self.user_index_map[user_id]\n",
    "                seen_indexes = self.seen_items.getrow(uid).nonzero()[1]\n",
    "                seen_item_ids = set([self._item_inv_map[index] for index in seen_indexes])\n",
    "                \n",
    "                # predictions = [p for p in self.predictions if p not in seen_item_ids][:n_rec]\n",
    "                \n",
    "                predictions = []\n",
    "                for p in self.predictions:\n",
    "                    if len(predictions) == n_rec:\n",
    "                        break\n",
    "                    if p not in seen_item_ids:\n",
    "                        predictions.append(p)\n",
    "                \n",
    "            res.append((user_id, predictions))\n",
    "        \n",
    "        res_df = pd.DataFrame(res, columns=[self.user_col, self.item_col])\n",
    "        return res_df\n",
    "    \n",
    "    def predict(self, user_ids: Iterable[int], n_rec: int, n_jobs: int = 1) -> pd.DataFrame:\n",
    "        if n_jobs == 1:\n",
    "            return self._predict(user_ids, n_rec)\n",
    "        \n",
    "        batches = np.array_split(user_ids, n_jobs)\n",
    "    \n",
    "        results_df = pd.DataFrame()\n",
    "\n",
    "        with Pool(processes=n_jobs) as pool:\n",
    "            futures = [pool.apply_async(self._predict, args=(batch, n_rec)) for batch in batches]\n",
    "            results = [f.get() for f in futures]\n",
    "        \n",
    "        for r_df in results:\n",
    "            results_df = pd.concat([results_df, r_df], ignore_index=True)\n",
    "\n",
    "        return results_df"
   ]
  },
  {
   "cell_type": "markdown",
   "id": "8e0cfdfe-652e-4997-8cb5-aa48a4283a82",
   "metadata": {},
   "source": [
    "## Hybrid recommender with LightFM"
   ]
  },
  {
   "cell_type": "markdown",
   "id": "02626367-5984-4522-a95e-30284f585f68",
   "metadata": {},
   "source": [
    "LightFM is a hybrid recommender system, i.e. it has properties of collab and content based modelling. Content-based property is very useful to overcome cold-start problems. But for this task, where we have static data, collab will work well.\n",
    "\n",
    "So, instead of just recommending some baseline like most popular items, we will get latent representations for users and items. The result similarity prediction is the product of user and item vector (+ bias)"
   ]
  },
  {
   "cell_type": "code",
   "execution_count": null,
   "id": "f7e4f77b-f3dc-496f-a9dd-c8649ed3daea",
   "metadata": {},
   "outputs": [],
   "source": [
    "REC_K = 10\n",
    "LR = 0.2\n",
    "TEST_PERCENT = 0.15\n",
    "\n",
    "LATENT_FEATURES = 80\n",
    "N_EPOCHS = 50\n",
    "N_JOBS = 8"
   ]
  },
  {
   "cell_type": "markdown",
   "id": "20ae0874-9b1a-4757-a235-3fe0ebfc1458",
   "metadata": {},
   "source": [
    "### Fit LightFM model without user and item features"
   ]
  },
  {
   "cell_type": "code",
   "execution_count": null,
   "id": "aaca4d8f-a81f-4117-873c-a9b93a40e4a2",
   "metadata": {},
   "outputs": [],
   "source": [
    "lfm_data = Dataset()\n",
    "lfm_data.fit(users=data['user'], items=data['survey'])"
   ]
  },
  {
   "cell_type": "markdown",
   "id": "0b964d92-8ed3-43c4-89e2-f81a5ee7fbb6",
   "metadata": {},
   "source": [
    "Making sure that user and items numbers have their expected values"
   ]
  },
  {
   "cell_type": "code",
   "execution_count": null,
   "id": "396f627e-5ae1-411d-9a6a-53609198240a",
   "metadata": {},
   "outputs": [
    {
     "data": {
      "text/plain": [
       "(83126, 42445)"
      ]
     },
     "execution_count": 37,
     "metadata": {},
     "output_type": "execute_result"
    }
   ],
   "source": [
    "assert lfm_data.interactions_shape() == (NUM_USERS, NUM_ITEMS)\n",
    "lfm_data.interactions_shape()"
   ]
  },
  {
   "cell_type": "code",
   "execution_count": null,
   "id": "cb566b64-5543-4d80-bfed-d13801c0301a",
   "metadata": {},
   "outputs": [],
   "source": [
    "score_column = 'rating'\n",
    "\n",
    "ui_interactions, weights = lfm_data.build_interactions(data[['user', 'survey', score_column]].values)"
   ]
  },
  {
   "cell_type": "markdown",
   "id": "4e2bcefe-bef1-47f6-99e4-6dd930cb362a",
   "metadata": {},
   "source": [
    "Split dataset in into train and test. Train and test here are interactions matrices (num_users, num_items) "
   ]
  },
  {
   "cell_type": "code",
   "execution_count": null,
   "id": "899f15f5-6463-400c-b46b-7ac54525162d",
   "metadata": {},
   "outputs": [
    {
     "data": {
      "text/plain": [
       "((83126, 42445), (83126, 42445))"
      ]
     },
     "execution_count": 39,
     "metadata": {},
     "output_type": "execute_result"
    }
   ],
   "source": [
    "train, test = cross_validation.random_train_test_split(ui_interactions, test_percentage=TEST_PERCENT, random_state=RANDOM_SEED)\n",
    "train.shape, test.shape"
   ]
  },
  {
   "cell_type": "code",
   "execution_count": null,
   "id": "4298d9b0-0417-470a-89e9-305c58711fc6",
   "metadata": {},
   "outputs": [
    {
     "data": {
      "text/plain": [
       "<lightfm.lightfm.LightFM at 0x7f3f01e98ee0>"
      ]
     },
     "execution_count": 172,
     "metadata": {},
     "output_type": "execute_result"
    }
   ],
   "source": [
    "lfm_model = LightFM(no_components=LATENT_FEATURES, learning_rate=LR, random_state=RANDOM_SEED)\n",
    "lfm_model.fit(train, epochs=N_EPOCHS, num_threads=N_JOBS)"
   ]
  },
  {
   "cell_type": "markdown",
   "id": "2e198376-0375-4ceb-ae40-781e165ed467",
   "metadata": {},
   "source": [
    "Sanity check that the model actually has sense"
   ]
  },
  {
   "cell_type": "markdown",
   "id": "a6267057-868d-4f44-981e-d4a1f6fb6d47",
   "metadata": {},
   "source": [
    "Sanity check that the model actually has sense. AUC score here represents the probability of random chosen positive example having higher score that the negative"
   ]
  },
  {
   "cell_type": "code",
   "execution_count": null,
   "id": "9d337603-980b-4f25-be1f-4d5a668460f8",
   "metadata": {},
   "outputs": [
    {
     "data": {
      "text/plain": [
       "0.95870113"
      ]
     },
     "execution_count": 173,
     "metadata": {},
     "output_type": "execute_result"
    }
   ],
   "source": [
    "train_auc = auc_score(lfm_model, train, num_threads=N_JOBS)\n",
    "train_auc.mean()"
   ]
  },
  {
   "cell_type": "code",
   "execution_count": null,
   "id": "40e9279d-8f73-46e4-a22e-d00f49e6dd98",
   "metadata": {},
   "outputs": [
    {
     "data": {
      "text/plain": [
       "0.94139826"
      ]
     },
     "execution_count": 174,
     "metadata": {},
     "output_type": "execute_result"
    }
   ],
   "source": [
    "test_auc = auc_score(lfm_model, test, num_threads=N_JOBS)\n",
    "test_auc.mean()"
   ]
  },
  {
   "cell_type": "markdown",
   "id": "a76b9eb8-32a9-4a8f-b210-6b9d5a955866",
   "metadata": {},
   "source": [
    "Model could create a grasp on the data"
   ]
  },
  {
   "cell_type": "markdown",
   "id": "1edf2089-f8f1-48e5-a4f9-a4b9ebd6c536",
   "metadata": {},
   "source": [
    "### Create Test Dataframe"
   ]
  },
  {
   "cell_type": "code",
   "execution_count": null,
   "id": "3c17b9e7-9410-44e7-9fd8-7b951e813f27",
   "metadata": {},
   "outputs": [],
   "source": [
    "user_id_map, _, survey_id_map, _ = lfm_data.mapping()  # we don't need feature mappings since we don't have them"
   ]
  },
  {
   "cell_type": "code",
   "execution_count": null,
   "id": "35d54683-0232-43d8-8d05-66e8a90da1ac",
   "metadata": {},
   "outputs": [
    {
     "data": {
      "text/html": [
       "<div>\n",
       "<style scoped>\n",
       "    .dataframe tbody tr th:only-of-type {\n",
       "        vertical-align: middle;\n",
       "    }\n",
       "\n",
       "    .dataframe tbody tr th {\n",
       "        vertical-align: top;\n",
       "    }\n",
       "\n",
       "    .dataframe thead th {\n",
       "        text-align: right;\n",
       "    }\n",
       "</style>\n",
       "<table border=\"1\" class=\"dataframe\">\n",
       "  <thead>\n",
       "    <tr style=\"text-align: right;\">\n",
       "      <th></th>\n",
       "      <th>user_lfm_id</th>\n",
       "      <th>user</th>\n",
       "      <th>survey_lfm_id</th>\n",
       "      <th>survey</th>\n",
       "      <th>weights</th>\n",
       "    </tr>\n",
       "  </thead>\n",
       "  <tbody>\n",
       "    <tr>\n",
       "      <th>0</th>\n",
       "      <td>12714</td>\n",
       "      <td>42870360</td>\n",
       "      <td>2169</td>\n",
       "      <td>100002169</td>\n",
       "      <td>1.0</td>\n",
       "    </tr>\n",
       "    <tr>\n",
       "      <th>1</th>\n",
       "      <td>73723</td>\n",
       "      <td>61060125</td>\n",
       "      <td>5243</td>\n",
       "      <td>100005243</td>\n",
       "      <td>3.0</td>\n",
       "    </tr>\n",
       "    <tr>\n",
       "      <th>2</th>\n",
       "      <td>899</td>\n",
       "      <td>61887066</td>\n",
       "      <td>1033</td>\n",
       "      <td>100001033</td>\n",
       "      <td>1.0</td>\n",
       "    </tr>\n",
       "    <tr>\n",
       "      <th>3</th>\n",
       "      <td>62659</td>\n",
       "      <td>7347315</td>\n",
       "      <td>15912</td>\n",
       "      <td>100015912</td>\n",
       "      <td>1.0</td>\n",
       "    </tr>\n",
       "    <tr>\n",
       "      <th>4</th>\n",
       "      <td>38712</td>\n",
       "      <td>62069982</td>\n",
       "      <td>27888</td>\n",
       "      <td>100027888</td>\n",
       "      <td>1.0</td>\n",
       "    </tr>\n",
       "  </tbody>\n",
       "</table>\n",
       "</div>"
      ],
      "text/plain": [
       "   user_lfm_id      user  survey_lfm_id     survey  weights\n",
       "0        12714  42870360           2169  100002169      1.0\n",
       "1        73723  61060125           5243  100005243      3.0\n",
       "2          899  61887066           1033  100001033      1.0\n",
       "3        62659   7347315          15912  100015912      1.0\n",
       "4        38712  62069982          27888  100027888      1.0"
      ]
     },
     "execution_count": 44,
     "metadata": {},
     "output_type": "execute_result"
    }
   ],
   "source": [
    "def create_lightfm_test_df(\n",
    "    test_ratio: float,\n",
    "    user_index_map: dict,\n",
    "    item_index_map: dict,\n",
    "    interactions: coo_matrix,\n",
    "    interactions_weights: coo_matrix,\n",
    "    random_seed: int = 1337\n",
    ") -> pd.DataFrame:\n",
    "\n",
    "    random_state = np.random.RandomState(seed=RANDOM_SEED)\n",
    "    user_lfm_ids, survey_lfm_ids, interactions = cross_validation._shuffle(\n",
    "        ui_interactions.row, ui_interactions.col, ui_interactions.data, random_state=random_state\n",
    "    )\n",
    "\n",
    "    user_keys = list(user_index_map.keys())\n",
    "    survey_keys = list(item_index_map.keys())\n",
    "\n",
    "    weights = interactions_weights.todok()  # transform to more convenient format. Weights here surveys ratings\n",
    "\n",
    "    test_index = int((1 - test_ratio) * len(user_lfm_ids))\n",
    "\n",
    "    test_user_ids = user_lfm_ids[test_index:]\n",
    "    test_survey_ids = survey_lfm_ids[test_index:]\n",
    "    test_weights = np.array([weights[(uid, sid)] for (uid, sid) in zip(test_user_ids, test_survey_ids)])\n",
    "    test_users = np.array([user_keys[uid] for uid in test_user_ids])\n",
    "    test_surveys = np.array([survey_keys[sid] for sid in test_survey_ids])\n",
    "    \n",
    "    test_df = pd.DataFrame({'user_lfm_id': test_user_ids,\n",
    "                        'user': test_users,\n",
    "                        'survey_lfm_id': test_survey_ids,\n",
    "                        'survey': test_surveys,\n",
    "                        'weights': test_weights})\n",
    "    \n",
    "    return test_df\n",
    "\n",
    "\n",
    "test_df = create_lightfm_test_df(\n",
    "    TEST_PERCENT,\n",
    "    user_id_map,\n",
    "    survey_id_map,\n",
    "    ui_interactions,\n",
    "    weights,\n",
    "    random_seed=RANDOM_SEED\n",
    ")\n",
    "test_df.head()"
   ]
  },
  {
   "cell_type": "markdown",
   "id": "9d05bfd4-c142-4a13-b0c2-d30be5d7033d",
   "metadata": {},
   "source": [
    "We previously checked that there were no duplicates in data: interactions between any user and any survey happened only onces. But let's double check anyway that our train/test split is correct "
   ]
  },
  {
   "cell_type": "code",
   "execution_count": null,
   "id": "81db95a5-eaa3-4480-9737-4bea8d7d6e4b",
   "metadata": {},
   "outputs": [],
   "source": [
    "train_interactions = train.todok()\n",
    "\n",
    "user_survey_train = np.array([train_interactions[(uid, sid)] > 0 for (uid, sid) in zip(test_df['user_lfm_id'], test_df['survey_lfm_id'],)])\n",
    "assert not np.any(user_survey_train)"
   ]
  },
  {
   "cell_type": "markdown",
   "id": "97457719-6b1a-45b1-8b40-ca0150b2fd9c",
   "metadata": {},
   "source": [
    "Now we want to make a prediction. So, we need to get scores for all possible pairs of `(user, item)`. We would also want to exclude pairs that we already met in training."
   ]
  },
  {
   "cell_type": "code",
   "execution_count": null,
   "id": "a795ed57-3eb8-4ff6-a7de-711bc442ec92",
   "metadata": {},
   "outputs": [
    {
     "data": {
      "text/html": [
       "<div>\n",
       "<style scoped>\n",
       "    .dataframe tbody tr th:only-of-type {\n",
       "        vertical-align: middle;\n",
       "    }\n",
       "\n",
       "    .dataframe tbody tr th {\n",
       "        vertical-align: top;\n",
       "    }\n",
       "\n",
       "    .dataframe thead th {\n",
       "        text-align: right;\n",
       "    }\n",
       "</style>\n",
       "<table border=\"1\" class=\"dataframe\">\n",
       "  <thead>\n",
       "    <tr style=\"text-align: right;\">\n",
       "      <th></th>\n",
       "      <th>user</th>\n",
       "      <th>survey</th>\n",
       "    </tr>\n",
       "  </thead>\n",
       "  <tbody>\n",
       "    <tr>\n",
       "      <th>0</th>\n",
       "      <td>40881</td>\n",
       "      <td>[100000025]</td>\n",
       "    </tr>\n",
       "    <tr>\n",
       "      <th>1</th>\n",
       "      <td>43281</td>\n",
       "      <td>[100022904, 100013471]</td>\n",
       "    </tr>\n",
       "    <tr>\n",
       "      <th>2</th>\n",
       "      <td>47667</td>\n",
       "      <td>[100002589, 100000659]</td>\n",
       "    </tr>\n",
       "    <tr>\n",
       "      <th>3</th>\n",
       "      <td>48396</td>\n",
       "      <td>[100000025]</td>\n",
       "    </tr>\n",
       "    <tr>\n",
       "      <th>4</th>\n",
       "      <td>57141</td>\n",
       "      <td>[100009689]</td>\n",
       "    </tr>\n",
       "    <tr>\n",
       "      <th>...</th>\n",
       "      <td>...</td>\n",
       "      <td>...</td>\n",
       "    </tr>\n",
       "    <tr>\n",
       "      <th>48023</th>\n",
       "      <td>62077776</td>\n",
       "      <td>[100001281]</td>\n",
       "    </tr>\n",
       "    <tr>\n",
       "      <th>48024</th>\n",
       "      <td>62077878</td>\n",
       "      <td>[100000532]</td>\n",
       "    </tr>\n",
       "    <tr>\n",
       "      <th>48025</th>\n",
       "      <td>62077911</td>\n",
       "      <td>[100000196]</td>\n",
       "    </tr>\n",
       "    <tr>\n",
       "      <th>48026</th>\n",
       "      <td>62078007</td>\n",
       "      <td>[100025947]</td>\n",
       "    </tr>\n",
       "    <tr>\n",
       "      <th>48027</th>\n",
       "      <td>62078010</td>\n",
       "      <td>[100020891]</td>\n",
       "    </tr>\n",
       "  </tbody>\n",
       "</table>\n",
       "<p>48028 rows × 2 columns</p>\n",
       "</div>"
      ],
      "text/plain": [
       "           user                  survey\n",
       "0         40881             [100000025]\n",
       "1         43281  [100022904, 100013471]\n",
       "2         47667  [100002589, 100000659]\n",
       "3         48396             [100000025]\n",
       "4         57141             [100009689]\n",
       "...         ...                     ...\n",
       "48023  62077776             [100001281]\n",
       "48024  62077878             [100000532]\n",
       "48025  62077911             [100000196]\n",
       "48026  62078007             [100025947]\n",
       "48027  62078010             [100020891]\n",
       "\n",
       "[48028 rows x 2 columns]"
      ]
     },
     "execution_count": 48,
     "metadata": {},
     "output_type": "execute_result"
    }
   ],
   "source": [
    "test_df_aggregated_all = test_df[['user', 'survey']].groupby(by=['user'], as_index=False).agg(list)\n",
    "test_df_aggregated_all"
   ]
  },
  {
   "cell_type": "code",
   "execution_count": null,
   "id": "00cf2328-25be-461b-9004-efa460f7905b",
   "metadata": {},
   "outputs": [
    {
     "data": {
      "text/html": [
       "<div>\n",
       "<style scoped>\n",
       "    .dataframe tbody tr th:only-of-type {\n",
       "        vertical-align: middle;\n",
       "    }\n",
       "\n",
       "    .dataframe tbody tr th {\n",
       "        vertical-align: top;\n",
       "    }\n",
       "\n",
       "    .dataframe thead th {\n",
       "        text-align: right;\n",
       "    }\n",
       "</style>\n",
       "<table border=\"1\" class=\"dataframe\">\n",
       "  <thead>\n",
       "    <tr style=\"text-align: right;\">\n",
       "      <th></th>\n",
       "      <th>user</th>\n",
       "      <th>survey</th>\n",
       "    </tr>\n",
       "  </thead>\n",
       "  <tbody>\n",
       "    <tr>\n",
       "      <th>0</th>\n",
       "      <td>64059</td>\n",
       "      <td>[100010236]</td>\n",
       "    </tr>\n",
       "    <tr>\n",
       "      <th>1</th>\n",
       "      <td>64407</td>\n",
       "      <td>[100000726]</td>\n",
       "    </tr>\n",
       "    <tr>\n",
       "      <th>2</th>\n",
       "      <td>73734</td>\n",
       "      <td>[100002930, 100002214, 100000507]</td>\n",
       "    </tr>\n",
       "    <tr>\n",
       "      <th>3</th>\n",
       "      <td>83121</td>\n",
       "      <td>[100003904, 100001204, 100001644]</td>\n",
       "    </tr>\n",
       "    <tr>\n",
       "      <th>4</th>\n",
       "      <td>107982</td>\n",
       "      <td>[100003247, 100008679]</td>\n",
       "    </tr>\n",
       "    <tr>\n",
       "      <th>...</th>\n",
       "      <td>...</td>\n",
       "      <td>...</td>\n",
       "    </tr>\n",
       "    <tr>\n",
       "      <th>19300</th>\n",
       "      <td>62076426</td>\n",
       "      <td>[100002726]</td>\n",
       "    </tr>\n",
       "    <tr>\n",
       "      <th>19301</th>\n",
       "      <td>62076858</td>\n",
       "      <td>[100010341]</td>\n",
       "    </tr>\n",
       "    <tr>\n",
       "      <th>19302</th>\n",
       "      <td>62076882</td>\n",
       "      <td>[100000879]</td>\n",
       "    </tr>\n",
       "    <tr>\n",
       "      <th>19303</th>\n",
       "      <td>62076915</td>\n",
       "      <td>[100003691]</td>\n",
       "    </tr>\n",
       "    <tr>\n",
       "      <th>19304</th>\n",
       "      <td>62077053</td>\n",
       "      <td>[100002577]</td>\n",
       "    </tr>\n",
       "  </tbody>\n",
       "</table>\n",
       "<p>19305 rows × 2 columns</p>\n",
       "</div>"
      ],
      "text/plain": [
       "           user                             survey\n",
       "0         64059                        [100010236]\n",
       "1         64407                        [100000726]\n",
       "2         73734  [100002930, 100002214, 100000507]\n",
       "3         83121  [100003904, 100001204, 100001644]\n",
       "4        107982             [100003247, 100008679]\n",
       "...         ...                                ...\n",
       "19300  62076426                        [100002726]\n",
       "19301  62076858                        [100010341]\n",
       "19302  62076882                        [100000879]\n",
       "19303  62076915                        [100003691]\n",
       "19304  62077053                        [100002577]\n",
       "\n",
       "[19305 rows x 2 columns]"
      ]
     },
     "execution_count": 49,
     "metadata": {},
     "output_type": "execute_result"
    }
   ],
   "source": [
    "test_df_aggregated_completed = test_df[test_df['weights'] > 1][['user', 'survey']].groupby(by=['user'], as_index=False).agg(list)\n",
    "test_df_aggregated_completed"
   ]
  },
  {
   "cell_type": "markdown",
   "id": "bed21b73-f7a6-4eaa-8b0d-eed3c9303c4f",
   "metadata": {},
   "source": [
    "### Fit LightFM with features"
   ]
  },
  {
   "cell_type": "markdown",
   "id": "71a6c7eb-5081-43d5-afb1-c97919c2cd76",
   "metadata": {},
   "source": [
    "As mentioned earlier, LightFM is a hybrid reommendation algorithm, and it can make use of some features for users ans items. Let's add some data for surveys: # it was taken, completed and the day it was last seen available. "
   ]
  },
  {
   "cell_type": "code",
   "execution_count": null,
   "id": "5bfc428f-6ab9-433b-b06d-38a94e9a841d",
   "metadata": {},
   "outputs": [],
   "source": [
    "surveys_features = surveys_completeness.set_index('survey')\n",
    "surveys_features['day'] = surveys_last_day"
   ]
  },
  {
   "cell_type": "code",
   "execution_count": null,
   "id": "e6d3fbc8-c4e9-483a-ad10-3f5f936741f7",
   "metadata": {},
   "outputs": [],
   "source": [
    "feature_names = ['taken', 'completed', 'day']\n",
    "feature_vals = {}\n",
    "\n",
    "for name in feature_names:\n",
    "    feature_vals[name] = sorted(surveys_features[name].unique())"
   ]
  },
  {
   "cell_type": "code",
   "execution_count": null,
   "id": "220358f9-e7cb-4781-ae82-437414603aa4",
   "metadata": {},
   "outputs": [],
   "source": [
    "all_item_features = []\n",
    "\n",
    "for name, vals in feature_vals.items():\n",
    "    tmp = [f'{name}:{val}' for val in vals]\n",
    "    all_item_features.extend(tmp)"
   ]
  },
  {
   "cell_type": "code",
   "execution_count": null,
   "id": "5270c1bd-21fd-481d-9cb8-19463975e107",
   "metadata": {},
   "outputs": [],
   "source": [
    "features_dataset = Dataset()\n",
    "features_dataset.fit(data['user'], data['survey'], item_features=all_item_features)"
   ]
  },
  {
   "cell_type": "code",
   "execution_count": null,
   "id": "fccd6832-46ab-4d8e-8557-01ce1a26086e",
   "metadata": {},
   "outputs": [],
   "source": [
    "item_features = []\n",
    "for row in surveys_features[feature_names].iterrows():\n",
    "    item, features = row\n",
    "    values = []\n",
    "    for name in features.index:\n",
    "        value = getattr(features, name)\n",
    "        values.append(f'{name}:{value}')\n",
    "    \n",
    "    item_features.append((item, tuple(values)))\n",
    "    \n",
    "item_features = features_dataset.build_item_features(item_features)"
   ]
  },
  {
   "cell_type": "code",
   "execution_count": null,
   "id": "8b45ed59-f851-4e68-9400-fb213b170c9f",
   "metadata": {},
   "outputs": [],
   "source": [
    "ui_interactions_f, weights_f = features_dataset.build_interactions(data[['user', 'survey', score_column]].values)"
   ]
  },
  {
   "cell_type": "code",
   "execution_count": null,
   "id": "86cd634e-d4df-4702-a676-c059a5fa40c0",
   "metadata": {},
   "outputs": [
    {
     "data": {
      "text/plain": [
       "<lightfm.lightfm.LightFM at 0x7f3f01ef0f70>"
      ]
     },
     "execution_count": 184,
     "metadata": {},
     "output_type": "execute_result"
    }
   ],
   "source": [
    "lfm_model_f = LightFM(loss='warp', no_components=LATENT_FEATURES, learning_schedule='adagrad', random_state=RANDOM_SEED, item_alpha=1e-6)\n",
    "lfm_model_f.fit(train, epochs=300, num_threads=N_JOBS, item_features=item_features)"
   ]
  },
  {
   "cell_type": "markdown",
   "id": "434de323-8c2f-4ebb-b58b-d7e0d75ffae1",
   "metadata": {},
   "source": [
    "With the same parameters as in previous model, model with features showed underfitting: AUC scores on train were about 0.3. To combat this, I tried increasing epoch count, changing loss function and learning schedule, increasing number of latent features. The most significant was just to let it train more :)"
   ]
  },
  {
   "cell_type": "code",
   "execution_count": null,
   "id": "b54383ac-70c7-4701-9ae6-6d500cce9342",
   "metadata": {},
   "outputs": [
    {
     "data": {
      "text/plain": [
       "(0.99953806, 0.94695145)"
      ]
     },
     "execution_count": 186,
     "metadata": {},
     "output_type": "execute_result"
    }
   ],
   "source": [
    "train_auc = auc_score(lfm_model_f, train, num_threads=N_JOBS, item_features=item_features)\n",
    "test_auc = auc_score(lfm_model_f, test, num_threads=N_JOBS, item_features=item_features)\n",
    "\n",
    "train_auc.mean(), test_auc.mean()"
   ]
  },
  {
   "cell_type": "markdown",
   "id": "dcc3eb11-5a35-40a3-ad9a-772a05e6973a",
   "metadata": {},
   "source": [
    "### Make predictions for all users through LightFM"
   ]
  },
  {
   "cell_type": "code",
   "execution_count": null,
   "id": "bb37db23-c8ce-4118-a242-5dc25bff0a46",
   "metadata": {},
   "outputs": [],
   "source": [
    "def apply_map(values: Iterable[int], mapping: dict) -> dict:\n",
    "    return [mapping[val] for val in values]\n",
    "\n",
    "def predict_batch(\n",
    "    model: LightFM,\n",
    "    users_lfm_ids: Iterable[int],\n",
    "    n_items: int,\n",
    "    n_rec: int,\n",
    "    seen_items: Optional[coo_matrix] = None,\n",
    "    user_features: Optional[csr_matrix] = None,\n",
    "    item_features: Optional[csr_matrix] = None\n",
    ") -> list:\n",
    "    \"\"\"\n",
    "    Make prediction with LightFM model on a batch for n_items\n",
    "    \"\"\"\n",
    "    \n",
    "    res = []\n",
    "    items = np.arange(n_items)\n",
    "    seen_indexes = []\n",
    "\n",
    "    for uid in users_lfm_ids.tolist():\n",
    "        if seen_items is not None:\n",
    "            seen_indexes = seen_items.getrow(uid).nonzero()[1]\n",
    "\n",
    "        res.append(\n",
    "            (\n",
    "                uid, model.predict(\n",
    "                    uid,\n",
    "                    np.delete(items, seen_indexes),\n",
    "                    user_features=user_features,\n",
    "                    item_features=item_features\n",
    "                ).argsort()[::-1][:n_rec])\n",
    "            )\n",
    "\n",
    "    return res \n",
    "\n",
    "def predict_all_lightfm(\n",
    "    model: LightFM,\n",
    "    user_ids: Iterable[int],\n",
    "    user_index_map: dict,\n",
    "    item_index_map: dict,\n",
    "    n_rec: int = 10,\n",
    "    seen_items: Optional[coo_matrix] = None,\n",
    "    user_features: Optional[csr_matrix] = None,\n",
    "    item_features: Optional[csr_matrix] = None,\n",
    "    user_col: str = 'user',\n",
    "    item_col: str = 'survey',\n",
    "    n_jobs: int = 1\n",
    ") -> pd.DataFrame:\n",
    "    \n",
    "    # converts user_ids to inner lightfm representation\n",
    "    users_lfm_ids = np.array([user_index_map[user_id] for user_id in user_ids]).astype(int)    \n",
    "    \n",
    "    # split user_ids to batches to run in parallel\n",
    "    batches = np.array_split(users_lfm_ids, n_jobs)\n",
    "    \n",
    "    # container to collect predictions\n",
    "    results = []\n",
    "    \n",
    "    pool = Pool(processes=n_jobs)\n",
    "    for batch in batches:\n",
    "        pool.apply_async(predict_batch,\n",
    "                         args=(model, batch, len(item_index_map), n_rec, seen_items, user_features, item_features),\n",
    "                         callback=lambda res: results.append(res))\n",
    "    pool.close()\n",
    "    pool.join()\n",
    "    \n",
    "    results = [item for inner_list in results for item in inner_list]  # convert [[(),...],...] to [(),...]\n",
    "    \n",
    "    # inverse mappings {lightfm_id -> user/survey ids} \n",
    "    user_inv_map = reverse_map(user_index_map)\n",
    "    item_inv_map = reverse_map(item_index_map)\n",
    "    \n",
    "    res_df = pd.DataFrame(results, columns=['uid', 'raw_recs'])\n",
    "    res_df[user_col] = res_df['uid'].map(user_inv_map)\n",
    "    res_df.drop(columns=['uid'], inplace=True)\n",
    "    \n",
    "    rec_col = f'{item_col} recs'\n",
    "    \n",
    "    # map items predictions from inner lightfm representation to normal id \n",
    "    with Pool(processes=n_jobs) as df_pool:\n",
    "        res_df[rec_col] = df_pool.map(partial(apply_map, mapping=item_inv_map), res_df['raw_recs'])\n",
    "    \n",
    "    res_df.drop(columns=['raw_recs'], inplace=True)\n",
    "                                   \n",
    "    return res_df"
   ]
  },
  {
   "cell_type": "code",
   "execution_count": null,
   "id": "ef9941c0-c6c8-4eaa-9ebc-d4ff72989838",
   "metadata": {},
   "outputs": [
    {
     "name": "stdout",
     "output_type": "stream",
     "text": [
      "CPU times: user 1.97 s, sys: 2.36 s, total: 4.33 s\n",
      "Wall time: 12min 21s\n"
     ]
    }
   ],
   "source": [
    "%%time\n",
    "\n",
    "split_parts = 2  # split into groups to save RAM\n",
    "users_to_predict = np.array_split(data['user'].unique(), split_parts)\n",
    "\n",
    "lightfm_results_df = pd.DataFrame()\n",
    "\n",
    "for users_split in users_to_predict:\n",
    "    temp_df = predict_all_lightfm(\n",
    "        model=lfm_model,\n",
    "        user_ids=users_split,\n",
    "        seen_items=train,\n",
    "        user_index_map=user_id_map,\n",
    "        item_index_map=survey_id_map,\n",
    "        n_rec=REC_K,\n",
    "        n_jobs=N_JOBS\n",
    "    )\n",
    "    lightfm_results_df = pd.concat([lightfm_results_df, temp_df], ignore_index=True)"
   ]
  },
  {
   "cell_type": "code",
   "execution_count": null,
   "id": "a9024c2a-32ba-4c68-a67c-a3fa6db05ea3",
   "metadata": {},
   "outputs": [
    {
     "name": "stdout",
     "output_type": "stream",
     "text": [
      "CPU times: user 2.77 s, sys: 3.89 s, total: 6.66 s\n",
      "Wall time: 12min 7s\n"
     ]
    }
   ],
   "source": [
    "%%time\n",
    "\n",
    "split_parts = 3  # split into groups to save RAM\n",
    "users_to_predict = np.array_split(data['user'].unique(), split_parts)\n",
    "\n",
    "lightfm_features_results_df = pd.DataFrame()\n",
    "\n",
    "for users_split in users_to_predict:\n",
    "    temp_df = predict_all_lightfm(\n",
    "        model=lfm_model_f,\n",
    "        user_ids=users_split,\n",
    "        seen_items=train,\n",
    "        user_index_map=user_id_map,\n",
    "        item_index_map=survey_id_map,\n",
    "        item_features=item_features,\n",
    "        n_rec=REC_K,\n",
    "        n_jobs=N_JOBS\n",
    "    )\n",
    "    lightfm_features_results_df = pd.concat([lightfm_features_results_df, temp_df], ignore_index=True)"
   ]
  },
  {
   "cell_type": "markdown",
   "id": "45b5382c-2474-4ad9-b52f-cd2888c9e64a",
   "metadata": {},
   "source": [
    "## Evaluate models"
   ]
  },
  {
   "cell_type": "markdown",
   "id": "26bc98da-d38e-4e48-b72c-7d3b1780b1af",
   "metadata": {},
   "source": [
    "### LightFM internal evaluation"
   ]
  },
  {
   "cell_type": "markdown",
   "id": "6146c3e9-6a44-424b-9c0a-2cb2727815dd",
   "metadata": {},
   "source": [
    "LightFM internal evaluation. Since in our data we mostly have low amount of clicks per user, I do not expect hight values. We might get excessive penalties for precicion on cases, where actual number of users' completed surveys is lower than k."
   ]
  },
  {
   "cell_type": "markdown",
   "id": "306d938e-82ab-4a64-a62f-33949b851112",
   "metadata": {},
   "source": [
    "**For model without features**"
   ]
  },
  {
   "cell_type": "code",
   "execution_count": null,
   "id": "84b327fa-81d1-4cbe-8a0b-6110ca438493",
   "metadata": {},
   "outputs": [
    {
     "data": {
      "text/plain": [
       "(0.040004447, 0.0646138906390231, 0.12185637368690767)"
      ]
     },
     "execution_count": 189,
     "metadata": {},
     "output_type": "execute_result"
    }
   ],
   "source": [
    "model = lfm_model\n",
    "\n",
    "eval_prec = precision_at_k(model=model,\n",
    "                           test_interactions=test,\n",
    "                           train_interactions=train,\n",
    "                           k=3,\n",
    "                           num_threads=N_JOBS)\n",
    "\n",
    "eval_recall = recall_at_k(model=model,\n",
    "                           test_interactions=test,\n",
    "                           train_interactions=train,\n",
    "                           k=3,\n",
    "                           num_threads=N_JOBS)\n",
    "\n",
    "eval_recall_10 = recall_at_k(model=model,\n",
    "                           test_interactions=test,\n",
    "                           train_interactions=train,\n",
    "                           k=10,\n",
    "                           num_threads=N_JOBS)\n",
    "\n",
    "\n",
    "eval_prec.mean(), eval_recall.mean(), eval_recall_10.mean()"
   ]
  },
  {
   "cell_type": "markdown",
   "id": "618e71db-0b33-4b3a-9628-a4d40d414b23",
   "metadata": {},
   "source": [
    "Not so good"
   ]
  },
  {
   "cell_type": "markdown",
   "id": "cfb1e38b-4b7d-43f2-8ed2-81372bf1b8ae",
   "metadata": {},
   "source": [
    "**For model with features and longer training**"
   ]
  },
  {
   "cell_type": "code",
   "execution_count": null,
   "id": "64075461-0310-44a8-b306-5adbc020f63b",
   "metadata": {},
   "outputs": [
    {
     "data": {
      "text/plain": [
       "(0.0735335, 0.08552802530465663, 0.1637905016310977)"
      ]
     },
     "execution_count": 191,
     "metadata": {},
     "output_type": "execute_result"
    }
   ],
   "source": [
    "model = lfm_model_f\n",
    "\n",
    "eval_prec = precision_at_k(model=model,\n",
    "                           test_interactions=test,\n",
    "                           train_interactions=train,\n",
    "                           item_features=item_features,\n",
    "                           k=3,\n",
    "                           num_threads=N_JOBS)\n",
    "\n",
    "eval_recall = recall_at_k(model=model,\n",
    "                           test_interactions=test,\n",
    "                           train_interactions=train,\n",
    "                           item_features=item_features,\n",
    "                           k=3,\n",
    "                           num_threads=N_JOBS)\n",
    "\n",
    "eval_recall_10 = recall_at_k(model=model,\n",
    "                           test_interactions=test,\n",
    "                           train_interactions=train,\n",
    "                           item_features=item_features,\n",
    "                           k=10,\n",
    "                           num_threads=N_JOBS)\n",
    "\n",
    "\n",
    "eval_prec.mean(), eval_recall.mean(), eval_recall_10.mean()"
   ]
  },
  {
   "cell_type": "markdown",
   "id": "37c416bc-9f87-4053-b5f1-42bcbaaecdbd",
   "metadata": {},
   "source": [
    "That's better!"
   ]
  },
  {
   "cell_type": "markdown",
   "id": "39590d9b-7d25-4a5b-91cb-59df5f3741ac",
   "metadata": {},
   "source": [
    "### Predict Baselines"
   ]
  },
  {
   "cell_type": "code",
   "execution_count": null,
   "id": "f2b61b79-5421-4d0e-8e9e-6ff2b7e75edc",
   "metadata": {},
   "outputs": [],
   "source": [
    "test_df_aggregated_all.set_index('user', inplace=True)\n",
    "\n",
    "test_users = test_df_aggregated_all.index"
   ]
  },
  {
   "cell_type": "code",
   "execution_count": null,
   "id": "a0159c32-b387-42a7-925f-113e0bc9eeb8",
   "metadata": {},
   "outputs": [
    {
     "name": "stdout",
     "output_type": "stream",
     "text": [
      "CPU times: user 555 ms, sys: 236 ms, total: 791 ms\n",
      "Wall time: 8min 30s\n"
     ]
    },
    {
     "data": {
      "text/html": [
       "<div>\n",
       "<style scoped>\n",
       "    .dataframe tbody tr th:only-of-type {\n",
       "        vertical-align: middle;\n",
       "    }\n",
       "\n",
       "    .dataframe tbody tr th {\n",
       "        vertical-align: top;\n",
       "    }\n",
       "\n",
       "    .dataframe thead th {\n",
       "        text-align: right;\n",
       "    }\n",
       "</style>\n",
       "<table border=\"1\" class=\"dataframe\">\n",
       "  <thead>\n",
       "    <tr style=\"text-align: right;\">\n",
       "      <th></th>\n",
       "      <th>user</th>\n",
       "      <th>survey</th>\n",
       "    </tr>\n",
       "  </thead>\n",
       "  <tbody>\n",
       "    <tr>\n",
       "      <th>0</th>\n",
       "      <td>40881</td>\n",
       "      <td>[100000513, 100000017, 100000368, 100000136, 1...</td>\n",
       "    </tr>\n",
       "    <tr>\n",
       "      <th>1</th>\n",
       "      <td>43281</td>\n",
       "      <td>[100000513, 100000017, 100000368, 100000136, 1...</td>\n",
       "    </tr>\n",
       "    <tr>\n",
       "      <th>2</th>\n",
       "      <td>47667</td>\n",
       "      <td>[100000513, 100000017, 100000368, 100000136, 1...</td>\n",
       "    </tr>\n",
       "    <tr>\n",
       "      <th>3</th>\n",
       "      <td>48396</td>\n",
       "      <td>[100000513, 100000017, 100000368, 100000136, 1...</td>\n",
       "    </tr>\n",
       "    <tr>\n",
       "      <th>4</th>\n",
       "      <td>57141</td>\n",
       "      <td>[100000513, 100000017, 100000368, 100000136, 1...</td>\n",
       "    </tr>\n",
       "    <tr>\n",
       "      <th>...</th>\n",
       "      <td>...</td>\n",
       "      <td>...</td>\n",
       "    </tr>\n",
       "    <tr>\n",
       "      <th>48023</th>\n",
       "      <td>62077776</td>\n",
       "      <td>[100000513, 100000017, 100000368, 100000136, 1...</td>\n",
       "    </tr>\n",
       "    <tr>\n",
       "      <th>48024</th>\n",
       "      <td>62077878</td>\n",
       "      <td>[100000513, 100000017, 100000368, 100000136, 1...</td>\n",
       "    </tr>\n",
       "    <tr>\n",
       "      <th>48025</th>\n",
       "      <td>62077911</td>\n",
       "      <td>[100000513, 100000017, 100000368, 100000136, 1...</td>\n",
       "    </tr>\n",
       "    <tr>\n",
       "      <th>48026</th>\n",
       "      <td>62078007</td>\n",
       "      <td>[100000513, 100000017, 100000368, 100000136, 1...</td>\n",
       "    </tr>\n",
       "    <tr>\n",
       "      <th>48027</th>\n",
       "      <td>62078010</td>\n",
       "      <td>[100000513, 100000017, 100000368, 100000136, 1...</td>\n",
       "    </tr>\n",
       "  </tbody>\n",
       "</table>\n",
       "<p>48028 rows × 2 columns</p>\n",
       "</div>"
      ],
      "text/plain": [
       "           user                                             survey\n",
       "0         40881  [100000513, 100000017, 100000368, 100000136, 1...\n",
       "1         43281  [100000513, 100000017, 100000368, 100000136, 1...\n",
       "2         47667  [100000513, 100000017, 100000368, 100000136, 1...\n",
       "3         48396  [100000513, 100000017, 100000368, 100000136, 1...\n",
       "4         57141  [100000513, 100000017, 100000368, 100000136, 1...\n",
       "...         ...                                                ...\n",
       "48023  62077776  [100000513, 100000017, 100000368, 100000136, 1...\n",
       "48024  62077878  [100000513, 100000017, 100000368, 100000136, 1...\n",
       "48025  62077911  [100000513, 100000017, 100000368, 100000136, 1...\n",
       "48026  62078007  [100000513, 100000017, 100000368, 100000136, 1...\n",
       "48027  62078010  [100000513, 100000017, 100000368, 100000136, 1...\n",
       "\n",
       "[48028 rows x 2 columns]"
      ]
     },
     "execution_count": 70,
     "metadata": {},
     "output_type": "execute_result"
    }
   ],
   "source": [
    "%%time\n",
    "\n",
    "baseline_model_most_completed = BaselineModel(\n",
    "    items_list=top_surveys_by_completion['survey'].values,\n",
    "    seen_items = train,\n",
    "    user_index_map=user_id_map,\n",
    "    item_index_map=survey_id_map,\n",
    ")\n",
    "\n",
    "baseline_res_most_completed = baseline_model_most_completed.predict(test_users, n_rec=10, n_jobs=N_JOBS)\n",
    "baseline_res_most_completed"
   ]
  },
  {
   "cell_type": "code",
   "execution_count": null,
   "id": "b10e1467-2849-4646-b50f-5c9a4b63cde5",
   "metadata": {},
   "outputs": [
    {
     "name": "stdout",
     "output_type": "stream",
     "text": [
      "CPU times: user 1.3 s, sys: 224 ms, total: 1.53 s\n",
      "Wall time: 8min 14s\n"
     ]
    },
    {
     "data": {
      "text/html": [
       "<div>\n",
       "<style scoped>\n",
       "    .dataframe tbody tr th:only-of-type {\n",
       "        vertical-align: middle;\n",
       "    }\n",
       "\n",
       "    .dataframe tbody tr th {\n",
       "        vertical-align: top;\n",
       "    }\n",
       "\n",
       "    .dataframe thead th {\n",
       "        text-align: right;\n",
       "    }\n",
       "</style>\n",
       "<table border=\"1\" class=\"dataframe\">\n",
       "  <thead>\n",
       "    <tr style=\"text-align: right;\">\n",
       "      <th></th>\n",
       "      <th>user</th>\n",
       "      <th>survey</th>\n",
       "    </tr>\n",
       "  </thead>\n",
       "  <tbody>\n",
       "    <tr>\n",
       "      <th>0</th>\n",
       "      <td>40881</td>\n",
       "      <td>[100001727, 100000382, 100001892, 100001142, 1...</td>\n",
       "    </tr>\n",
       "    <tr>\n",
       "      <th>1</th>\n",
       "      <td>43281</td>\n",
       "      <td>[100001727, 100000382, 100001892, 100001142, 1...</td>\n",
       "    </tr>\n",
       "    <tr>\n",
       "      <th>2</th>\n",
       "      <td>47667</td>\n",
       "      <td>[100001727, 100000382, 100001892, 100001142, 1...</td>\n",
       "    </tr>\n",
       "    <tr>\n",
       "      <th>3</th>\n",
       "      <td>48396</td>\n",
       "      <td>[100001727, 100000382, 100001892, 100001142, 1...</td>\n",
       "    </tr>\n",
       "    <tr>\n",
       "      <th>4</th>\n",
       "      <td>57141</td>\n",
       "      <td>[100001727, 100000382, 100001892, 100001142, 1...</td>\n",
       "    </tr>\n",
       "    <tr>\n",
       "      <th>...</th>\n",
       "      <td>...</td>\n",
       "      <td>...</td>\n",
       "    </tr>\n",
       "    <tr>\n",
       "      <th>48023</th>\n",
       "      <td>62077776</td>\n",
       "      <td>[100001727, 100000382, 100001892, 100001142, 1...</td>\n",
       "    </tr>\n",
       "    <tr>\n",
       "      <th>48024</th>\n",
       "      <td>62077878</td>\n",
       "      <td>[100001727, 100000382, 100001892, 100001142, 1...</td>\n",
       "    </tr>\n",
       "    <tr>\n",
       "      <th>48025</th>\n",
       "      <td>62077911</td>\n",
       "      <td>[100001727, 100000382, 100001892, 100001142, 1...</td>\n",
       "    </tr>\n",
       "    <tr>\n",
       "      <th>48026</th>\n",
       "      <td>62078007</td>\n",
       "      <td>[100001727, 100000382, 100001892, 100001142, 1...</td>\n",
       "    </tr>\n",
       "    <tr>\n",
       "      <th>48027</th>\n",
       "      <td>62078010</td>\n",
       "      <td>[100001727, 100000382, 100001892, 100001142, 1...</td>\n",
       "    </tr>\n",
       "  </tbody>\n",
       "</table>\n",
       "<p>48028 rows × 2 columns</p>\n",
       "</div>"
      ],
      "text/plain": [
       "           user                                             survey\n",
       "0         40881  [100001727, 100000382, 100001892, 100001142, 1...\n",
       "1         43281  [100001727, 100000382, 100001892, 100001142, 1...\n",
       "2         47667  [100001727, 100000382, 100001892, 100001142, 1...\n",
       "3         48396  [100001727, 100000382, 100001892, 100001142, 1...\n",
       "4         57141  [100001727, 100000382, 100001892, 100001142, 1...\n",
       "...         ...                                                ...\n",
       "48023  62077776  [100001727, 100000382, 100001892, 100001142, 1...\n",
       "48024  62077878  [100001727, 100000382, 100001892, 100001142, 1...\n",
       "48025  62077911  [100001727, 100000382, 100001892, 100001142, 1...\n",
       "48026  62078007  [100001727, 100000382, 100001892, 100001142, 1...\n",
       "48027  62078010  [100001727, 100000382, 100001892, 100001142, 1...\n",
       "\n",
       "[48028 rows x 2 columns]"
      ]
     },
     "execution_count": 71,
     "metadata": {},
     "output_type": "execute_result"
    }
   ],
   "source": [
    "%%time\n",
    "\n",
    "baseline_model_best_ratio = BaselineModel(\n",
    "    items_list=top_surveys_by_prob['survey'].values,\n",
    "    seen_items = train,\n",
    "    user_index_map=user_id_map,\n",
    "    item_index_map=survey_id_map,\n",
    ")\n",
    "\n",
    "baseline_res_best_ratio = baseline_model_best_ratio.predict(test_users, n_rec=10, n_jobs=N_JOBS)\n",
    "baseline_res_best_ratio"
   ]
  },
  {
   "cell_type": "code",
   "execution_count": null,
   "id": "a54f879c-d2d7-4908-8d85-0cee209c77c7",
   "metadata": {},
   "outputs": [
    {
     "name": "stdout",
     "output_type": "stream",
     "text": [
      "CPU times: user 678 ms, sys: 276 ms, total: 954 ms\n",
      "Wall time: 8min 12s\n"
     ]
    },
    {
     "data": {
      "text/html": [
       "<div>\n",
       "<style scoped>\n",
       "    .dataframe tbody tr th:only-of-type {\n",
       "        vertical-align: middle;\n",
       "    }\n",
       "\n",
       "    .dataframe tbody tr th {\n",
       "        vertical-align: top;\n",
       "    }\n",
       "\n",
       "    .dataframe thead th {\n",
       "        text-align: right;\n",
       "    }\n",
       "</style>\n",
       "<table border=\"1\" class=\"dataframe\">\n",
       "  <thead>\n",
       "    <tr style=\"text-align: right;\">\n",
       "      <th></th>\n",
       "      <th>user</th>\n",
       "      <th>survey</th>\n",
       "    </tr>\n",
       "  </thead>\n",
       "  <tbody>\n",
       "    <tr>\n",
       "      <th>0</th>\n",
       "      <td>40881</td>\n",
       "      <td>[100000368, 100001069, 100002169, 100003075, 1...</td>\n",
       "    </tr>\n",
       "    <tr>\n",
       "      <th>1</th>\n",
       "      <td>43281</td>\n",
       "      <td>[100000368, 100001069, 100002169, 100003075, 1...</td>\n",
       "    </tr>\n",
       "    <tr>\n",
       "      <th>2</th>\n",
       "      <td>47667</td>\n",
       "      <td>[100000368, 100001069, 100002169, 100003075, 1...</td>\n",
       "    </tr>\n",
       "    <tr>\n",
       "      <th>3</th>\n",
       "      <td>48396</td>\n",
       "      <td>[100000368, 100001069, 100002169, 100003075, 1...</td>\n",
       "    </tr>\n",
       "    <tr>\n",
       "      <th>4</th>\n",
       "      <td>57141</td>\n",
       "      <td>[100000368, 100001069, 100002169, 100003075, 1...</td>\n",
       "    </tr>\n",
       "    <tr>\n",
       "      <th>...</th>\n",
       "      <td>...</td>\n",
       "      <td>...</td>\n",
       "    </tr>\n",
       "    <tr>\n",
       "      <th>48023</th>\n",
       "      <td>62077776</td>\n",
       "      <td>[100000368, 100001069, 100002169, 100003075, 1...</td>\n",
       "    </tr>\n",
       "    <tr>\n",
       "      <th>48024</th>\n",
       "      <td>62077878</td>\n",
       "      <td>[100000368, 100001069, 100002169, 100003075, 1...</td>\n",
       "    </tr>\n",
       "    <tr>\n",
       "      <th>48025</th>\n",
       "      <td>62077911</td>\n",
       "      <td>[100000368, 100001069, 100002169, 100003075, 1...</td>\n",
       "    </tr>\n",
       "    <tr>\n",
       "      <th>48026</th>\n",
       "      <td>62078007</td>\n",
       "      <td>[100000368, 100001069, 100002169, 100003075, 1...</td>\n",
       "    </tr>\n",
       "    <tr>\n",
       "      <th>48027</th>\n",
       "      <td>62078010</td>\n",
       "      <td>[100000368, 100001069, 100002169, 100003075, 1...</td>\n",
       "    </tr>\n",
       "  </tbody>\n",
       "</table>\n",
       "<p>48028 rows × 2 columns</p>\n",
       "</div>"
      ],
      "text/plain": [
       "           user                                             survey\n",
       "0         40881  [100000368, 100001069, 100002169, 100003075, 1...\n",
       "1         43281  [100000368, 100001069, 100002169, 100003075, 1...\n",
       "2         47667  [100000368, 100001069, 100002169, 100003075, 1...\n",
       "3         48396  [100000368, 100001069, 100002169, 100003075, 1...\n",
       "4         57141  [100000368, 100001069, 100002169, 100003075, 1...\n",
       "...         ...                                                ...\n",
       "48023  62077776  [100000368, 100001069, 100002169, 100003075, 1...\n",
       "48024  62077878  [100000368, 100001069, 100002169, 100003075, 1...\n",
       "48025  62077911  [100000368, 100001069, 100002169, 100003075, 1...\n",
       "48026  62078007  [100000368, 100001069, 100002169, 100003075, 1...\n",
       "48027  62078010  [100000368, 100001069, 100002169, 100003075, 1...\n",
       "\n",
       "[48028 rows x 2 columns]"
      ]
     },
     "execution_count": 72,
     "metadata": {},
     "output_type": "execute_result"
    }
   ],
   "source": [
    "%%time\n",
    "\n",
    "baseline_model_highest_rating = BaselineModel(\n",
    "    items_list=top_surveys_by_rating['survey'].values,\n",
    "    seen_items = train,\n",
    "    user_index_map=user_id_map,\n",
    "    item_index_map=survey_id_map,\n",
    ")\n",
    "\n",
    "baseline_res_highest_rating = baseline_model_highest_rating.predict(test_users, n_rec=10, n_jobs=N_JOBS)\n",
    "baseline_res_highest_rating"
   ]
  },
  {
   "cell_type": "code",
   "execution_count": null,
   "id": "5633e94d-b4ab-4405-94e0-30622d638606",
   "metadata": {},
   "outputs": [],
   "source": [
    "baseline_res_highest_rating.set_index('user', inplace=True)\n",
    "baseline_res_best_ratio.set_index('user', inplace=True)\n",
    "baseline_res_most_completed.set_index('user', inplace=True)\n",
    "lightfm_results_df.set_index('user', inplace=True)\n",
    "lightfm_features_results_df.set_index('user', inplace=True)"
   ]
  },
  {
   "cell_type": "markdown",
   "id": "94472f36-29eb-4ac6-b9cd-3f428b5eaa96",
   "metadata": {},
   "source": [
    "### Calculate Metrics"
   ]
  },
  {
   "cell_type": "code",
   "execution_count": null,
   "id": "9cc43252-d638-4a3f-91ff-62a31d4cef7f",
   "metadata": {},
   "outputs": [],
   "source": [
    "def calc_precision_recall_at_k(\n",
    "    true_values: Iterable[int],\n",
    "    predictions: Iterable[int],\n",
    "    k: int=10\n",
    ") -> tuple:\n",
    "    \"\"\"\n",
    "        Precision @ K: Proportion of recommended items that are relevant\n",
    "        Recall @ K: Proportion of relevant items that are recommended\n",
    "    \"\"\"\n",
    "\n",
    "    if not(true_values):\n",
    "        return (0, 0)\n",
    "\n",
    "    n_rel = len(true_values)\n",
    "    \n",
    "    intersect = len(set(true_values).intersection(predictions[:k]))\n",
    "    prec_k = intersect / len(predictions[:k])\n",
    "    rec_k = intersect / len(true_values)\n",
    "        \n",
    "        \n",
    "    return prec_k, rec_k"
   ]
  },
  {
   "cell_type": "code",
   "execution_count": null,
   "id": "f88a3edf-6900-49e5-a67e-04a123668ebc",
   "metadata": {},
   "outputs": [],
   "source": [
    "from collections import defaultdict\n",
    "def calc_test_precision_recalls_at_k(test_df: pd.DataFrame, k: int = 3) -> (dict, dict):\n",
    "\n",
    "    precisions_aggregated_all = defaultdict(list)\n",
    "    recalls_aggregated_all = defaultdict(list)\n",
    "\n",
    "    for row in tqdm(test_df.iterrows()):\n",
    "        user_id, labels = row\n",
    "        true_labels = labels[0]\n",
    "        for pred in zip(labels[1:].index, labels[1:]):\n",
    "            name, predictions = pred\n",
    "            curr_prec, curr_recall = calc_precision_recall_at_k(true_labels, predictions, k)\n",
    "\n",
    "            precisions_aggregated_all[name].append(curr_prec)\n",
    "            recalls_aggregated_all[name].append(curr_recall)\n",
    "\n",
    "    for key in precisions_aggregated_all:\n",
    "        print(f'Precision @ {k} {key}: {np.mean(precisions_aggregated_all[key])}')\n",
    "    \n",
    "    print('---')\n",
    "\n",
    "    for key in recalls_aggregated_all:\n",
    "        print(f'Recall @ {k} {key}: {np.mean(recalls_aggregated_all[key])}')\n",
    "    \n",
    "    print('---')\n",
    "\n",
    "    return precisions_aggregated_all, recalls_aggregated_all"
   ]
  },
  {
   "cell_type": "code",
   "execution_count": null,
   "id": "c7712aee-352a-4386-872b-be3c0d83e42d",
   "metadata": {},
   "outputs": [],
   "source": [
    "test_df_aggregated_all['lightfm_recs'] = lightfm_results_df.loc[test_df_aggregated_all.index]\n",
    "test_df_aggregated_all['lightfm_features_recs'] = lightfm_features_results_df.loc[test_df_aggregated_all.index]\n",
    "\n",
    "\n",
    "test_df_aggregated_all['baseline_rating_recs'] = baseline_res_highest_rating.loc[test_df_aggregated_all.index]\n",
    "test_df_aggregated_all['baseline_ratio_recs'] = baseline_res_best_ratio.loc[test_df_aggregated_all.index]\n",
    "test_df_aggregated_all['baseline_completed_recs'] = baseline_res_most_completed.loc[test_df_aggregated_all.index]"
   ]
  },
  {
   "cell_type": "code",
   "execution_count": null,
   "id": "ad886f6b-292a-4bfe-a717-44ff83e5c52a",
   "metadata": {},
   "outputs": [
    {
     "data": {
      "application/vnd.jupyter.widget-view+json": {
       "model_id": "9497fa06c34e48dcaa63e9b375e0d7eb",
       "version_major": 2,
       "version_minor": 0
      },
      "text/plain": [
       "0it [00:00, ?it/s]"
      ]
     },
     "metadata": {},
     "output_type": "display_data"
    },
    {
     "name": "stdout",
     "output_type": "stream",
     "text": [
      "Precision @ 1 lightfm_recs: 0.04603564587324061\n",
      "Precision @ 1 baseline_rating_recs: 0.00503872740901141\n",
      "Precision @ 1 baseline_ratio_recs: 0.0018739068876488716\n",
      "Precision @ 1 baseline_completed_recs: 0.005559257100024985\n",
      "Precision @ 1 lightfm_features_recs: 0.039518614141750646\n",
      "---\n",
      "Recall @ 1 lightfm_recs: 0.028913600325976275\n",
      "Recall @ 1 baseline_rating_recs: 0.0012294367425027925\n",
      "Recall @ 1 baseline_ratio_recs: 0.0004274899873074625\n",
      "Recall @ 1 baseline_completed_recs: 0.0010300402860935222\n",
      "Recall @ 1 lightfm_features_recs: 0.025051721718263847\n",
      "---\n"
     ]
    },
    {
     "data": {
      "application/vnd.jupyter.widget-view+json": {
       "model_id": "4294a9519f9041bc925835f9998a6557",
       "version_major": 2,
       "version_minor": 0
      },
      "text/plain": [
       "0it [00:00, ?it/s]"
      ]
     },
     "metadata": {},
     "output_type": "display_data"
    },
    {
     "name": "stdout",
     "output_type": "stream",
     "text": [
      "Precision @ 3 lightfm_recs: 0.022466061464145915\n",
      "Precision @ 3 baseline_rating_recs: 0.004761111573804169\n",
      "Precision @ 3 baseline_ratio_recs: 0.0020474167846533963\n",
      "Precision @ 3 baseline_completed_recs: 0.006052025207517836\n",
      "Precision @ 3 lightfm_features_recs: 0.022473001860026088\n",
      "---\n",
      "Recall @ 3 lightfm_recs: 0.042479028249813\n",
      "Recall @ 3 baseline_rating_recs: 0.003760603732649353\n",
      "Recall @ 3 baseline_ratio_recs: 0.001400412448527042\n",
      "Recall @ 3 baseline_completed_recs: 0.004214553273131577\n",
      "Recall @ 3 lightfm_features_recs: 0.03983995863479673\n",
      "---\n"
     ]
    },
    {
     "data": {
      "application/vnd.jupyter.widget-view+json": {
       "model_id": "d6078c6708e5457bad574a72e40860bc",
       "version_major": 2,
       "version_minor": 0
      },
      "text/plain": [
       "0it [00:00, ?it/s]"
      ]
     },
     "metadata": {},
     "output_type": "display_data"
    },
    {
     "name": "stdout",
     "output_type": "stream",
     "text": [
      "Precision @ 5 lightfm_recs: 0.015453485466811029\n",
      "Precision @ 5 baseline_rating_recs: 0.004526526193054051\n",
      "Precision @ 5 baseline_ratio_recs: 0.0020904472391105188\n",
      "Precision @ 5 baseline_completed_recs: 0.010772882485216958\n",
      "Precision @ 5 lightfm_features_recs: 0.016948446739402014\n",
      "---\n",
      "Recall @ 5 lightfm_recs: 0.04759450660484358\n",
      "Recall @ 5 baseline_rating_recs: 0.005339264515038975\n",
      "Recall @ 5 baseline_ratio_recs: 0.002996231564001752\n",
      "Recall @ 5 baseline_completed_recs: 0.02081731821380581\n",
      "Recall @ 5 lightfm_features_recs: 0.048706374671475\n",
      "---\n"
     ]
    },
    {
     "data": {
      "application/vnd.jupyter.widget-view+json": {
       "model_id": "2681c95d6cc14e70b0d747872569db5b",
       "version_major": 2,
       "version_minor": 0
      },
      "text/plain": [
       "0it [00:00, ?it/s]"
      ]
     },
     "metadata": {},
     "output_type": "display_data"
    },
    {
     "name": "stdout",
     "output_type": "stream",
     "text": [
      "Precision @ 10 lightfm_recs: 0.010862413592071293\n",
      "Precision @ 10 baseline_rating_recs: 0.004970017489797618\n",
      "Precision @ 10 baseline_ratio_recs: 0.0019738485883234783\n",
      "Precision @ 10 baseline_completed_recs: 0.00859498625801616\n",
      "Precision @ 10 lightfm_features_recs: 0.011564087615557593\n",
      "---\n",
      "Recall @ 10 lightfm_recs: 0.06749816796159276\n",
      "Recall @ 10 baseline_rating_recs: 0.013716753861841954\n",
      "Recall @ 10 baseline_ratio_recs: 0.005975957302351091\n",
      "Recall @ 10 baseline_completed_recs: 0.036866235669477075\n",
      "Recall @ 10 lightfm_features_recs: 0.06482316719783372\n",
      "---\n"
     ]
    }
   ],
   "source": [
    "for k in [1, 3, 5, 10]:\n",
    "    calc_test_precision_recalls_at_k(test_df_aggregated_all, k=k)"
   ]
  },
  {
   "cell_type": "markdown",
   "id": "fcef76ac-251c-4066-a8aa-71276a810c43",
   "metadata": {},
   "source": [
    "LightFM models dominate here. The one with additional features and longer training is slightly better for @5"
   ]
  },
  {
   "cell_type": "markdown",
   "id": "07a56ba0-be86-4559-bb4f-4d0000515cad",
   "metadata": {},
   "source": [
    "What if we wanted to predict only most successful surveys, i.e. the ones with completion "
   ]
  },
  {
   "cell_type": "code",
   "execution_count": null,
   "id": "8a043c32-22bb-448f-bc59-e63b5a5e65f1",
   "metadata": {},
   "outputs": [],
   "source": [
    "test_df_aggregated_completed.set_index('user', inplace=True)\n",
    "\n",
    "test_df_aggregated_completed['lightfm_recs'] = lightfm_results_df.loc[test_df_aggregated_completed.index]\n",
    "test_df_aggregated_completed['lightfm_features_recs'] = lightfm_features_results_df.loc[test_df_aggregated_completed.index]\n",
    "\n",
    "test_df_aggregated_completed['baseline_rating_recs'] = baseline_res_highest_rating.loc[test_df_aggregated_completed.index]\n",
    "test_df_aggregated_completed['baseline_ratio_recs'] = baseline_res_best_ratio.loc[test_df_aggregated_completed.index]\n",
    "test_df_aggregated_completed['baseline_completed_recs'] = baseline_res_most_completed.loc[test_df_aggregated_completed.index]"
   ]
  },
  {
   "cell_type": "code",
   "execution_count": null,
   "id": "0328b564-22a8-4c7f-89c6-ef4903932fd3",
   "metadata": {},
   "outputs": [
    {
     "data": {
      "application/vnd.jupyter.widget-view+json": {
       "model_id": "665fde9a3432441e8a1f33e4a9247e40",
       "version_major": 2,
       "version_minor": 0
      },
      "text/plain": [
       "0it [00:00, ?it/s]"
      ]
     },
     "metadata": {},
     "output_type": "display_data"
    },
    {
     "name": "stdout",
     "output_type": "stream",
     "text": [
      "Precision @ 1 lightfm_recs: 0.0030044030044030045\n",
      "Precision @ 1 baseline_rating_recs: 0.008961408961408962\n",
      "Precision @ 1 baseline_ratio_recs: 0.004662004662004662\n",
      "Precision @ 1 baseline_completed_recs: 0.009686609686609686\n",
      "Precision @ 1 lightfm_features_recs: 0.004662004662004662\n",
      "---\n",
      "Recall @ 1 lightfm_recs: 0.0025954292620959285\n",
      "Recall @ 1 baseline_rating_recs: 0.005733813511591288\n",
      "Recall @ 1 baseline_ratio_recs: 0.0027053399275621497\n",
      "Recall @ 1 baseline_completed_recs: 0.0057730303884150035\n",
      "Recall @ 1 lightfm_features_recs: 0.0037784817271996757\n",
      "---\n"
     ]
    },
    {
     "data": {
      "application/vnd.jupyter.widget-view+json": {
       "model_id": "b30c46132f8b4706848238016ab50037",
       "version_major": 2,
       "version_minor": 0
      },
      "text/plain": [
       "0it [00:00, ?it/s]"
      ]
     },
     "metadata": {},
     "output_type": "display_data"
    },
    {
     "name": "stdout",
     "output_type": "stream",
     "text": [
      "Precision @ 3 lightfm_recs: 0.0016403349736683068\n",
      "Precision @ 3 baseline_rating_recs: 0.006561339894673227\n",
      "Precision @ 3 baseline_ratio_recs: 0.004782871449538116\n",
      "Precision @ 3 baseline_completed_recs: 0.008806008806008805\n",
      "Precision @ 3 lightfm_features_recs: 0.003142536475869809\n",
      "---\n",
      "Recall @ 3 lightfm_recs: 0.00401734068400735\n",
      "Recall @ 3 baseline_rating_recs: 0.012204174426396649\n",
      "Recall @ 3 baseline_ratio_recs: 0.008337423892979447\n",
      "Recall @ 3 baseline_completed_recs: 0.0164461021725979\n",
      "Recall @ 3 lightfm_features_recs: 0.007531787904748277\n",
      "---\n"
     ]
    },
    {
     "data": {
      "application/vnd.jupyter.widget-view+json": {
       "model_id": "8912c7444d804bb48556835fb8cb0202",
       "version_major": 2,
       "version_minor": 0
      },
      "text/plain": [
       "0it [00:00, ?it/s]"
      ]
     },
     "metadata": {},
     "output_type": "display_data"
    },
    {
     "name": "stdout",
     "output_type": "stream",
     "text": [
      "Precision @ 5 lightfm_recs: 0.0013675213675213677\n",
      "Precision @ 5 baseline_rating_recs: 0.005594405594405594\n",
      "Precision @ 5 baseline_ratio_recs: 0.0047138047138047135\n",
      "Precision @ 5 baseline_completed_recs: 0.008277648277648276\n",
      "Precision @ 5 lightfm_features_recs: 0.0026521626521626524\n",
      "---\n",
      "Recall @ 5 lightfm_recs: 0.005616235616235616\n",
      "Recall @ 5 baseline_rating_recs: 0.016826549806347787\n",
      "Recall @ 5 baseline_ratio_recs: 0.014606299050743494\n",
      "Recall @ 5 baseline_completed_recs: 0.02773057901263029\n",
      "Recall @ 5 lightfm_features_recs: 0.010543097582724622\n",
      "---\n"
     ]
    },
    {
     "data": {
      "application/vnd.jupyter.widget-view+json": {
       "model_id": "773ed43e3706479ba0bb83a7daf5837d",
       "version_major": 2,
       "version_minor": 0
      },
      "text/plain": [
       "0it [00:00, ?it/s]"
      ]
     },
     "metadata": {},
     "output_type": "display_data"
    },
    {
     "name": "stdout",
     "output_type": "stream",
     "text": [
      "Precision @ 10 lightfm_recs: 0.001952861952861953\n",
      "Precision @ 10 baseline_rating_recs: 0.005666925666925667\n",
      "Precision @ 10 baseline_ratio_recs: 0.004144004144004144\n",
      "Precision @ 10 baseline_completed_recs: 0.007210567210567211\n",
      "Precision @ 10 lightfm_features_recs: 0.0021756021756021756\n",
      "---\n",
      "Recall @ 10 lightfm_recs: 0.01642314475647809\n",
      "Recall @ 10 baseline_rating_recs: 0.03538372703873869\n",
      "Recall @ 10 baseline_ratio_recs: 0.026178903401125622\n",
      "Recall @ 10 baseline_completed_recs: 0.05076782982765888\n",
      "Recall @ 10 lightfm_features_recs: 0.017103265809559516\n",
      "---\n"
     ]
    }
   ],
   "source": [
    "for k in [1, 3, 5, 10]:\n",
    "    calc_test_precision_recalls_at_k(test_df_aggregated_completed, k=k)"
   ]
  },
  {
   "cell_type": "markdown",
   "id": "7e53aca0-c76f-4f3f-8573-05d36b50566d",
   "metadata": {},
   "source": [
    "Interesting, that in the latter case, simple baseline metrics seems to be better. To think about it, it is logical, since we treated users' clicks on surveys as a positive signal of interest. And from baseline metrics the most basic, surveys which were completed most of the times, worked the best.\n",
    "\n",
    "We may also benefit from fune-tuning the LightFM model.\n",
    "\n",
    "We could potentially use LightFM model latent representations here to recommend most similar items to the last seen item with positive feedback in user history.\n",
    "\n",
    "These metrics can be a first approximation to offline model comparison and filtering the best. But I do not think that based on them we could make a final decision on whether to put the model to test on production or not. At first, because current metrics have its own bias on existing recommendation system. And if radically change it (or improve), their values won't be that good, since they may differ much from predictions of an existing model. And in general, user behavior is better measured by actual online metrics."
   ]
  },
  {
   "cell_type": "markdown",
   "id": "7e773b43-0b64-4e77-a709-6625bc559bf0",
   "metadata": {},
   "source": [
    "## Final prediction"
   ]
  },
  {
   "cell_type": "markdown",
   "id": "81c7d0b2-f2cc-4c67-8379-ad3dab165035",
   "metadata": {},
   "source": [
    "Fit model on remaining data"
   ]
  },
  {
   "cell_type": "code",
   "execution_count": null,
   "id": "13907eb3-5bc8-4463-b515-7cf5c58b2e83",
   "metadata": {},
   "outputs": [
    {
     "data": {
      "text/plain": [
       "<lightfm.lightfm.LightFM at 0x7f3f01ef0f70>"
      ]
     },
     "execution_count": 206,
     "metadata": {},
     "output_type": "execute_result"
    }
   ],
   "source": [
    "lfm_model_f.fit_partial(test, item_features=item_features, num_threads=N_JOBS, epochs=20)"
   ]
  },
  {
   "cell_type": "code",
   "execution_count": null,
   "id": "e7a3a5c9-85b9-4d04-bac4-d3b828c75cd0",
   "metadata": {},
   "outputs": [
    {
     "name": "stdout",
     "output_type": "stream",
     "text": [
      "CPU times: user 2.23 s, sys: 3.74 s, total: 5.97 s\n",
      "Wall time: 13min 24s\n"
     ]
    }
   ],
   "source": [
    "%%time\n",
    "REC_K = 3\n",
    "\n",
    "split_parts = 4  # split into groups to save RAM\n",
    "users_to_predict = np.array_split(data['user'].unique(), split_parts)\n",
    "\n",
    "lightfm_final_results_df = pd.DataFrame()\n",
    "\n",
    "for users_split in users_to_predict:\n",
    "    temp_df = predict_all_lightfm(\n",
    "        model=lfm_model_f,\n",
    "        user_ids=users_split,\n",
    "        seen_items=ui_interactions_f,\n",
    "        user_index_map=user_id_map,\n",
    "        item_index_map=survey_id_map,\n",
    "        item_features=item_features,\n",
    "        n_rec=REC_K,\n",
    "        n_jobs=N_JOBS\n",
    "    )\n",
    "    lightfm_final_results_df = pd.concat([lightfm_final_results_df, temp_df], ignore_index=True)"
   ]
  },
  {
   "cell_type": "code",
   "execution_count": null,
   "id": "9b4fc66d-3b79-4bca-bcb3-f9abcc3429fa",
   "metadata": {},
   "outputs": [
    {
     "data": {
      "text/html": [
       "<div>\n",
       "<style scoped>\n",
       "    .dataframe tbody tr th:only-of-type {\n",
       "        vertical-align: middle;\n",
       "    }\n",
       "\n",
       "    .dataframe tbody tr th {\n",
       "        vertical-align: top;\n",
       "    }\n",
       "\n",
       "    .dataframe thead th {\n",
       "        text-align: right;\n",
       "    }\n",
       "</style>\n",
       "<table border=\"1\" class=\"dataframe\">\n",
       "  <thead>\n",
       "    <tr style=\"text-align: right;\">\n",
       "      <th></th>\n",
       "      <th>user</th>\n",
       "      <th>survey recs</th>\n",
       "    </tr>\n",
       "  </thead>\n",
       "  <tbody>\n",
       "    <tr>\n",
       "      <th>0</th>\n",
       "      <td>46120029</td>\n",
       "      <td>[100000289, 100011190, 100003321]</td>\n",
       "    </tr>\n",
       "    <tr>\n",
       "      <th>1</th>\n",
       "      <td>61685181</td>\n",
       "      <td>[100000545, 100002720, 100000014]</td>\n",
       "    </tr>\n",
       "    <tr>\n",
       "      <th>2</th>\n",
       "      <td>61900560</td>\n",
       "      <td>[100000316, 100002255, 100002002]</td>\n",
       "    </tr>\n",
       "    <tr>\n",
       "      <th>3</th>\n",
       "      <td>26620554</td>\n",
       "      <td>[100000152, 100000213, 100000649]</td>\n",
       "    </tr>\n",
       "    <tr>\n",
       "      <th>4</th>\n",
       "      <td>61973223</td>\n",
       "      <td>[100000760, 100000153, 100006533]</td>\n",
       "    </tr>\n",
       "  </tbody>\n",
       "</table>\n",
       "</div>"
      ],
      "text/plain": [
       "       user                        survey recs\n",
       "0  46120029  [100000289, 100011190, 100003321]\n",
       "1  61685181  [100000545, 100002720, 100000014]\n",
       "2  61900560  [100000316, 100002255, 100002002]\n",
       "3  26620554  [100000152, 100000213, 100000649]\n",
       "4  61973223  [100000760, 100000153, 100006533]"
      ]
     },
     "execution_count": 211,
     "metadata": {},
     "output_type": "execute_result"
    }
   ],
   "source": [
    "lightfm_final_results_df.head()"
   ]
  },
  {
   "cell_type": "markdown",
   "id": "454dc21e-708d-43ea-abbf-4de2b4c0321b",
   "metadata": {},
   "source": [
    "---"
   ]
  }
 ],
 "metadata": {
  "kernelspec": {
   "display_name": "base-env",
   "language": "python",
   "name": "base-env"
  },
  "language_info": {
   "codemirror_mode": {
    "name": "ipython",
    "version": 3
   },
   "file_extension": ".py",
   "mimetype": "text/x-python",
   "name": "python",
   "nbconvert_exporter": "python",
   "pygments_lexer": "ipython3",
   "version": "3.9.12"
  },
  "toc": {
   "base_numbering": 1,
   "nav_menu": {},
   "number_sections": true,
   "sideBar": true,
   "skip_h1_title": false,
   "title_cell": "Table of Contents",
   "title_sidebar": "Contents",
   "toc_cell": false,
   "toc_position": {},
   "toc_section_display": true,
   "toc_window_display": false
  },
  "varInspector": {
   "cols": {
    "lenName": 16,
    "lenType": 16,
    "lenVar": 40
   },
   "kernels_config": {
    "python": {
     "delete_cmd_postfix": "",
     "delete_cmd_prefix": "del ",
     "library": "var_list.py",
     "varRefreshCmd": "print(var_dic_list())"
    },
    "r": {
     "delete_cmd_postfix": ") ",
     "delete_cmd_prefix": "rm(",
     "library": "var_list.r",
     "varRefreshCmd": "cat(var_dic_list()) "
    }
   },
   "types_to_exclude": [
    "module",
    "function",
    "builtin_function_or_method",
    "instance",
    "_Feature"
   ],
   "window_display": false
  }
 },
 "nbformat": 4,
 "nbformat_minor": 5
}
